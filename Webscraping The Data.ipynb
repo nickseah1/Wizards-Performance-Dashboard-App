{
 "cells": [
  {
   "cell_type": "code",
   "execution_count": 1,
   "id": "f56feffb",
   "metadata": {},
   "outputs": [],
   "source": [
    "import pandas as pd\n",
    "import sklearn\n",
    "import matplotlib.pyplot as plt\n",
    "import numpy as np\n",
    "import urllib.request\n",
    "from urllib.request import urlopen\n",
    "from bs4 import BeautifulSoup\n",
    "import csv\n",
    "import plotly.express as px\n",
    "import plotly\n",
    "\n",
    "pd.options.mode.chained_assignment = None  # default='warn'\n"
   ]
  },
  {
   "cell_type": "code",
   "execution_count": 2,
   "id": "c97a5a28",
   "metadata": {},
   "outputs": [],
   "source": [
    "url = 'https://www.foxsports.com/nba/washington-wizards-team-game-log'\n",
    "page = urlopen(url)\n",
    "soup = BeautifulSoup(page,'html.parser')\n",
    "table = soup.find('table')"
   ]
  },
  {
   "cell_type": "code",
   "execution_count": 3,
   "id": "2da8970c",
   "metadata": {},
   "outputs": [],
   "source": [
    "output_rows = []\n",
    "for table_row in table.findAll('tr'):\n",
    "    columns = table_row.findAll('td')\n",
    "    output_row = []\n",
    "    for column in columns:\n",
    "        output_row.append(column.text)\n",
    "    output_rows.append(output_row)\n",
    "\n",
    "output_rows = output_rows[1:]\n"
   ]
  },
  {
   "cell_type": "code",
   "execution_count": 4,
   "id": "d83dd98b",
   "metadata": {},
   "outputs": [
    {
     "data": {
      "text/plain": [
       "[[' 10/20\\n',\n",
       "  ' @ TOR\\n',\n",
       "  ' W 98-83\\n',\n",
       "  '36',\n",
       "  '81',\n",
       "  '44.400',\n",
       "  '21',\n",
       "  '26',\n",
       "  '80.800',\n",
       "  '5',\n",
       "  '27',\n",
       "  '18.500',\n",
       "  '98'],\n",
       " [' 10/22\\n',\n",
       "  ' vs IND\\n',\n",
       "  ' W 135-134\\n',\n",
       "  '49',\n",
       "  '94',\n",
       "  '52.100',\n",
       "  '18',\n",
       "  '19',\n",
       "  '94.700',\n",
       "  '19',\n",
       "  '38',\n",
       "  '50.000',\n",
       "  '135'],\n",
       " [' 10/25\\n',\n",
       "  ' @ BKN\\n',\n",
       "  ' L 90-104\\n',\n",
       "  '33',\n",
       "  '95',\n",
       "  '34.700',\n",
       "  '15',\n",
       "  '20',\n",
       "  '75.000',\n",
       "  '9',\n",
       "  '39',\n",
       "  '23.100',\n",
       "  '90'],\n",
       " [' 10/27\\n',\n",
       "  ' @ BOS\\n',\n",
       "  ' W 116-107\\n',\n",
       "  '43',\n",
       "  '84',\n",
       "  '51.200',\n",
       "  '21',\n",
       "  '29',\n",
       "  '72.400',\n",
       "  '9',\n",
       "  '25',\n",
       "  '36.000',\n",
       "  '116'],\n",
       " [' 10/28\\n',\n",
       "  ' vs ATL\\n',\n",
       "  ' W 122-111\\n',\n",
       "  '46',\n",
       "  '99',\n",
       "  '46.500',\n",
       "  '17',\n",
       "  '21',\n",
       "  '81.000',\n",
       "  '13',\n",
       "  '34',\n",
       "  '38.200',\n",
       "  '122'],\n",
       " [' 10/30\\n',\n",
       "  ' vs BOS\\n',\n",
       "  ' W 115-112\\n',\n",
       "  '38',\n",
       "  '104',\n",
       "  '36.500',\n",
       "  '29',\n",
       "  '36',\n",
       "  '80.600',\n",
       "  '10',\n",
       "  '36',\n",
       "  '27.800',\n",
       "  '115'],\n",
       " [' 11/01\\n',\n",
       "  ' @ ATL\\n',\n",
       "  ' L 111-118\\n',\n",
       "  '41',\n",
       "  '86',\n",
       "  '47.700',\n",
       "  '16',\n",
       "  '16',\n",
       "  '100.000',\n",
       "  '13',\n",
       "  '39',\n",
       "  '33.300',\n",
       "  '111'],\n",
       " [' 11/03\\n',\n",
       "  ' vs TOR\\n',\n",
       "  ' L 100-109\\n',\n",
       "  '34',\n",
       "  '78',\n",
       "  '43.600',\n",
       "  '24',\n",
       "  '30',\n",
       "  '80.000',\n",
       "  '8',\n",
       "  '32',\n",
       "  '25.000',\n",
       "  '100'],\n",
       " [' 11/05\\n',\n",
       "  ' vs MEM\\n',\n",
       "  ' W 115-87\\n',\n",
       "  '49',\n",
       "  '84',\n",
       "  '58.300',\n",
       "  '7',\n",
       "  '13',\n",
       "  '53.800',\n",
       "  '10',\n",
       "  '25',\n",
       "  '40.000',\n",
       "  '115'],\n",
       " [' 11/07\\n',\n",
       "  ' vs MIL\\n',\n",
       "  ' W 101-94\\n',\n",
       "  '41',\n",
       "  '81',\n",
       "  '50.600',\n",
       "  '8',\n",
       "  '13',\n",
       "  '61.500',\n",
       "  '11',\n",
       "  '27',\n",
       "  '40.700',\n",
       "  '101'],\n",
       " [' 11/10\\n',\n",
       "  ' @ CLE\\n',\n",
       "  ' W 97-94\\n',\n",
       "  '35',\n",
       "  '84',\n",
       "  '41.700',\n",
       "  '17',\n",
       "  '17',\n",
       "  '100.000',\n",
       "  '10',\n",
       "  '28',\n",
       "  '35.700',\n",
       "  '97'],\n",
       " [' 11/13\\n',\n",
       "  ' @ ORL\\n',\n",
       "  ' W 104-92\\n',\n",
       "  '42',\n",
       "  '84',\n",
       "  '50.000',\n",
       "  '8',\n",
       "  '10',\n",
       "  '80.000',\n",
       "  '12',\n",
       "  '35',\n",
       "  '34.300',\n",
       "  '104'],\n",
       " [' 11/15\\n',\n",
       "  ' vs NOP\\n',\n",
       "  ' W 105-100\\n',\n",
       "  '39',\n",
       "  '84',\n",
       "  '46.400',\n",
       "  '17',\n",
       "  '25',\n",
       "  '68.000',\n",
       "  '10',\n",
       "  '28',\n",
       "  '35.700',\n",
       "  '105'],\n",
       " [' 11/17\\n', ' @ CHA\\n', '', '', '', '', '', '', '', '', '', '', ''],\n",
       " [' 11/18\\n', ' @ MIA\\n', '', '', '', '', '', '', '', '', '', '', ''],\n",
       " [' 11/20\\n', ' vs MIA\\n', '', '', '', '', '', '', '', '', '', '', ''],\n",
       " [' 11/22\\n', ' vs CHA\\n', '', '', '', '', '', '', '', '', '', '', ''],\n",
       " [' 11/24\\n', ' @ NOP\\n', '', '', '', '', '', '', '', '', '', '', ''],\n",
       " [' 11/26\\n', ' @ OKC\\n', '', '', '', '', '', '', '', '', '', '', ''],\n",
       " [' 11/27\\n', ' @ DAL\\n', '', '', '', '', '', '', '', '', '', '', ''],\n",
       " [' 11/29\\n', ' @ SAS\\n', '', '', '', '', '', '', '', '', '', '', ''],\n",
       " [' 12/01\\n', ' vs MIN\\n', '', '', '', '', '', '', '', '', '', '', ''],\n",
       " [' 12/03\\n', ' vs CLE\\n', '', '', '', '', '', '', '', '', '', '', ''],\n",
       " [' 12/05\\n', ' @ TOR\\n', '', '', '', '', '', '', '', '', '', '', ''],\n",
       " [' 12/06\\n', ' @ IND\\n', '', '', '', '', '', '', '', '', '', '', ''],\n",
       " [' 12/08\\n', ' @ DET\\n', '', '', '', '', '', '', '', '', '', '', ''],\n",
       " [' 12/11\\n', ' vs UTA\\n', '', '', '', '', '', '', '', '', '', '', ''],\n",
       " [' 12/13\\n', ' @ DEN\\n', '', '', '', '', '', '', '', '', '', '', ''],\n",
       " [' 12/15\\n', ' @ SAC\\n', '', '', '', '', '', '', '', '', '', '', ''],\n",
       " [' 12/16\\n', ' @ PHX\\n', '', '', '', '', '', '', '', '', '', '', ''],\n",
       " [' 12/18\\n', ' @ UTA\\n', '', '', '', '', '', '', '', '', '', '', ''],\n",
       " [' 12/21\\n', ' @ BKN\\n', '', '', '', '', '', '', '', '', '', '', ''],\n",
       " [' 12/23\\n', ' @ NYK\\n', '', '', '', '', '', '', '', '', '', '', ''],\n",
       " [' 12/26\\n', ' vs PHI\\n', '', '', '', '', '', '', '', '', '', '', ''],\n",
       " [' 12/28\\n', ' @ MIA\\n', '', '', '', '', '', '', '', '', '', '', ''],\n",
       " [' 12/30\\n', ' vs CLE\\n', '', '', '', '', '', '', '', '', '', '', ''],\n",
       " [' 01/01\\n', ' vs CHI\\n', '', '', '', '', '', '', '', '', '', '', ''],\n",
       " [' 01/03\\n', ' vs CHA\\n', '', '', '', '', '', '', '', '', '', '', ''],\n",
       " [' 01/05\\n', ' vs HOU\\n', '', '', '', '', '', '', '', '', '', '', ''],\n",
       " [' 01/07\\n', ' @ CHI\\n', '', '', '', '', '', '', '', '', '', '', ''],\n",
       " [' 01/09\\n', ' @ ORL\\n', '', '', '', '', '', '', '', '', '', '', ''],\n",
       " [' 01/11\\n', ' vs OKC\\n', '', '', '', '', '', '', '', '', '', '', ''],\n",
       " [' 01/12\\n', ' vs ORL\\n', '', '', '', '', '', '', '', '', '', '', ''],\n",
       " [' 01/15\\n', ' vs POR\\n', '', '', '', '', '', '', '', '', '', '', ''],\n",
       " [' 01/17\\n', ' vs PHI\\n', '', '', '', '', '', '', '', '', '', '', ''],\n",
       " [' 01/19\\n', ' vs BKN\\n', '', '', '', '', '', '', '', '', '', '', ''],\n",
       " [' 01/21\\n', ' vs TOR\\n', '', '', '', '', '', '', '', '', '', '', ''],\n",
       " [' 01/23\\n', ' vs BOS\\n', '', '', '', '', '', '', '', '', '', '', ''],\n",
       " [' 01/25\\n', ' vs LAC\\n', '', '', '', '', '', '', '', '', '', '', ''],\n",
       " [' 01/29\\n', ' @ MEM\\n', '', '', '', '', '', '', '', '', '', '', ''],\n",
       " [' 02/01\\n', ' @ MIL\\n', '', '', '', '', '', '', '', '', '', '', ''],\n",
       " [' 02/02\\n', ' @ PHI\\n', '', '', '', '', '', '', '', '', '', '', ''],\n",
       " [' 02/05\\n', ' vs PHX\\n', '', '', '', '', '', '', '', '', '', '', ''],\n",
       " [' 02/07\\n', ' vs MIA\\n', '', '', '', '', '', '', '', '', '', '', ''],\n",
       " [' 02/10\\n', ' vs BKN\\n', '', '', '', '', '', '', '', '', '', '', ''],\n",
       " [' 02/12\\n', ' vs SAC\\n', '', '', '', '', '', '', '', '', '', '', ''],\n",
       " [' 02/14\\n', ' vs DET\\n', '', '', '', '', '', '', '', '', '', '', ''],\n",
       " [' 02/16\\n', ' @ IND\\n', '', '', '', '', '', '', '', '', '', '', ''],\n",
       " [' 02/25\\n', ' vs SAS\\n', '', '', '', '', '', '', '', '', '', '', ''],\n",
       " [' 02/26\\n', ' @ CLE\\n', '', '', '', '', '', '', '', '', '', '', ''],\n",
       " [' 03/01\\n', ' vs DET\\n', '', '', '', '', '', '', '', '', '', '', ''],\n",
       " [' 03/04\\n', ' vs ATL\\n', '', '', '', '', '', '', '', '', '', '', ''],\n",
       " [' 03/06\\n', ' vs IND\\n', '', '', '', '', '', '', '', '', '', '', ''],\n",
       " [' 03/09\\n', ' @ LAC\\n', '', '', '', '', '', '', '', '', '', '', ''],\n",
       " [' 03/11\\n', ' @ LAL\\n', '', '', '', '', '', '', '', '', '', '', ''],\n",
       " [' 03/12\\n', ' @ POR\\n', '', '', '', '', '', '', '', '', '', '', ''],\n",
       " [' 03/14\\n', ' @ GSW\\n', '', '', '', '', '', '', '', '', '', '', ''],\n",
       " [' 03/16\\n', ' vs DEN\\n', '', '', '', '', '', '', '', '', '', '', ''],\n",
       " [' 03/18\\n', ' @ NYK\\n', '', '', '', '', '', '', '', '', '', '', ''],\n",
       " [' 03/19\\n', ' vs LAL\\n', '', '', '', '', '', '', '', '', '', '', ''],\n",
       " [' 03/21\\n', ' @ HOU\\n', '', '', '', '', '', '', '', '', '', '', ''],\n",
       " [' 03/24\\n', ' @ MIL\\n', '', '', '', '', '', '', '', '', '', '', ''],\n",
       " [' 03/25\\n', ' @ DET\\n', '', '', '', '', '', '', '', '', '', '', ''],\n",
       " [' 03/27\\n', ' vs GSW\\n', '', '', '', '', '', '', '', '', '', '', ''],\n",
       " [' 03/29\\n', ' vs CHI\\n', '', '', '', '', '', '', '', '', '', '', ''],\n",
       " [' 03/30\\n', ' vs ORL\\n', '', '', '', '', '', '', '', '', '', '', ''],\n",
       " [' 04/01\\n', ' vs DAL\\n', '', '', '', '', '', '', '', '', '', '', ''],\n",
       " [' 04/03\\n', ' @ BOS\\n', '', '', '', '', '', '', '', '', '', '', ''],\n",
       " [' 04/05\\n', ' @ MIN\\n', '', '', '', '', '', '', '', '', '', '', ''],\n",
       " [' 04/06\\n', ' @ ATL\\n', '', '', '', '', '', '', '', '', '', '', ''],\n",
       " [' 04/08\\n', ' vs NYK\\n', '', '', '', '', '', '', '', '', '', '', ''],\n",
       " [' 04/10\\n', ' @ CHA\\n', '', '', '', '', '', '', '', '', '', '', '']]"
      ]
     },
     "execution_count": 4,
     "metadata": {},
     "output_type": "execute_result"
    }
   ],
   "source": [
    "output_rows"
   ]
  },
  {
   "cell_type": "code",
   "execution_count": 5,
   "id": "ffb67197",
   "metadata": {},
   "outputs": [],
   "source": [
    "# date_index = []\n",
    "# for game in range(0,len(output_rows)):\n",
    "#     date_index.append(output_rows[game][0])\n",
    "\n",
    "# date_index"
   ]
  },
  {
   "cell_type": "code",
   "execution_count": 6,
   "id": "66302c41",
   "metadata": {},
   "outputs": [
    {
     "data": {
      "text/html": [
       "<div>\n",
       "<style scoped>\n",
       "    .dataframe tbody tr th:only-of-type {\n",
       "        vertical-align: middle;\n",
       "    }\n",
       "\n",
       "    .dataframe tbody tr th {\n",
       "        vertical-align: top;\n",
       "    }\n",
       "\n",
       "    .dataframe thead th {\n",
       "        text-align: right;\n",
       "    }\n",
       "</style>\n",
       "<table border=\"1\" class=\"dataframe\">\n",
       "  <thead>\n",
       "    <tr style=\"text-align: right;\">\n",
       "      <th></th>\n",
       "      <th>Date</th>\n",
       "      <th>Opponent</th>\n",
       "      <th>Score</th>\n",
       "      <th>FGM</th>\n",
       "      <th>FGA</th>\n",
       "      <th>FG%</th>\n",
       "      <th>FTM</th>\n",
       "      <th>FTA</th>\n",
       "      <th>FT%</th>\n",
       "      <th>3FGM</th>\n",
       "      <th>3FGA</th>\n",
       "      <th>3FG%</th>\n",
       "      <th>PTS</th>\n",
       "    </tr>\n",
       "  </thead>\n",
       "  <tbody>\n",
       "    <tr>\n",
       "      <th>0</th>\n",
       "      <td>10/20\\n</td>\n",
       "      <td>@ TOR\\n</td>\n",
       "      <td>W 98-83\\n</td>\n",
       "      <td>36</td>\n",
       "      <td>81</td>\n",
       "      <td>44.400</td>\n",
       "      <td>21</td>\n",
       "      <td>26</td>\n",
       "      <td>80.800</td>\n",
       "      <td>5</td>\n",
       "      <td>27</td>\n",
       "      <td>18.500</td>\n",
       "      <td>98</td>\n",
       "    </tr>\n",
       "    <tr>\n",
       "      <th>1</th>\n",
       "      <td>10/22\\n</td>\n",
       "      <td>vs IND\\n</td>\n",
       "      <td>W 135-134\\n</td>\n",
       "      <td>49</td>\n",
       "      <td>94</td>\n",
       "      <td>52.100</td>\n",
       "      <td>18</td>\n",
       "      <td>19</td>\n",
       "      <td>94.700</td>\n",
       "      <td>19</td>\n",
       "      <td>38</td>\n",
       "      <td>50.000</td>\n",
       "      <td>135</td>\n",
       "    </tr>\n",
       "    <tr>\n",
       "      <th>2</th>\n",
       "      <td>10/25\\n</td>\n",
       "      <td>@ BKN\\n</td>\n",
       "      <td>L 90-104\\n</td>\n",
       "      <td>33</td>\n",
       "      <td>95</td>\n",
       "      <td>34.700</td>\n",
       "      <td>15</td>\n",
       "      <td>20</td>\n",
       "      <td>75.000</td>\n",
       "      <td>9</td>\n",
       "      <td>39</td>\n",
       "      <td>23.100</td>\n",
       "      <td>90</td>\n",
       "    </tr>\n",
       "    <tr>\n",
       "      <th>3</th>\n",
       "      <td>10/27\\n</td>\n",
       "      <td>@ BOS\\n</td>\n",
       "      <td>W 116-107\\n</td>\n",
       "      <td>43</td>\n",
       "      <td>84</td>\n",
       "      <td>51.200</td>\n",
       "      <td>21</td>\n",
       "      <td>29</td>\n",
       "      <td>72.400</td>\n",
       "      <td>9</td>\n",
       "      <td>25</td>\n",
       "      <td>36.000</td>\n",
       "      <td>116</td>\n",
       "    </tr>\n",
       "    <tr>\n",
       "      <th>4</th>\n",
       "      <td>10/28\\n</td>\n",
       "      <td>vs ATL\\n</td>\n",
       "      <td>W 122-111\\n</td>\n",
       "      <td>46</td>\n",
       "      <td>99</td>\n",
       "      <td>46.500</td>\n",
       "      <td>17</td>\n",
       "      <td>21</td>\n",
       "      <td>81.000</td>\n",
       "      <td>13</td>\n",
       "      <td>34</td>\n",
       "      <td>38.200</td>\n",
       "      <td>122</td>\n",
       "    </tr>\n",
       "    <tr>\n",
       "      <th>...</th>\n",
       "      <td>...</td>\n",
       "      <td>...</td>\n",
       "      <td>...</td>\n",
       "      <td>...</td>\n",
       "      <td>...</td>\n",
       "      <td>...</td>\n",
       "      <td>...</td>\n",
       "      <td>...</td>\n",
       "      <td>...</td>\n",
       "      <td>...</td>\n",
       "      <td>...</td>\n",
       "      <td>...</td>\n",
       "      <td>...</td>\n",
       "    </tr>\n",
       "    <tr>\n",
       "      <th>77</th>\n",
       "      <td>04/03\\n</td>\n",
       "      <td>@ BOS\\n</td>\n",
       "      <td></td>\n",
       "      <td></td>\n",
       "      <td></td>\n",
       "      <td></td>\n",
       "      <td></td>\n",
       "      <td></td>\n",
       "      <td></td>\n",
       "      <td></td>\n",
       "      <td></td>\n",
       "      <td></td>\n",
       "      <td></td>\n",
       "    </tr>\n",
       "    <tr>\n",
       "      <th>78</th>\n",
       "      <td>04/05\\n</td>\n",
       "      <td>@ MIN\\n</td>\n",
       "      <td></td>\n",
       "      <td></td>\n",
       "      <td></td>\n",
       "      <td></td>\n",
       "      <td></td>\n",
       "      <td></td>\n",
       "      <td></td>\n",
       "      <td></td>\n",
       "      <td></td>\n",
       "      <td></td>\n",
       "      <td></td>\n",
       "    </tr>\n",
       "    <tr>\n",
       "      <th>79</th>\n",
       "      <td>04/06\\n</td>\n",
       "      <td>@ ATL\\n</td>\n",
       "      <td></td>\n",
       "      <td></td>\n",
       "      <td></td>\n",
       "      <td></td>\n",
       "      <td></td>\n",
       "      <td></td>\n",
       "      <td></td>\n",
       "      <td></td>\n",
       "      <td></td>\n",
       "      <td></td>\n",
       "      <td></td>\n",
       "    </tr>\n",
       "    <tr>\n",
       "      <th>80</th>\n",
       "      <td>04/08\\n</td>\n",
       "      <td>vs NYK\\n</td>\n",
       "      <td></td>\n",
       "      <td></td>\n",
       "      <td></td>\n",
       "      <td></td>\n",
       "      <td></td>\n",
       "      <td></td>\n",
       "      <td></td>\n",
       "      <td></td>\n",
       "      <td></td>\n",
       "      <td></td>\n",
       "      <td></td>\n",
       "    </tr>\n",
       "    <tr>\n",
       "      <th>81</th>\n",
       "      <td>04/10\\n</td>\n",
       "      <td>@ CHA\\n</td>\n",
       "      <td></td>\n",
       "      <td></td>\n",
       "      <td></td>\n",
       "      <td></td>\n",
       "      <td></td>\n",
       "      <td></td>\n",
       "      <td></td>\n",
       "      <td></td>\n",
       "      <td></td>\n",
       "      <td></td>\n",
       "      <td></td>\n",
       "    </tr>\n",
       "  </tbody>\n",
       "</table>\n",
       "<p>82 rows × 13 columns</p>\n",
       "</div>"
      ],
      "text/plain": [
       "        Date   Opponent         Score FGM FGA     FG% FTM FTA     FT% 3FGM  \\\n",
       "0    10/20\\n    @ TOR\\n     W 98-83\\n  36  81  44.400  21  26  80.800    5   \n",
       "1    10/22\\n   vs IND\\n   W 135-134\\n  49  94  52.100  18  19  94.700   19   \n",
       "2    10/25\\n    @ BKN\\n    L 90-104\\n  33  95  34.700  15  20  75.000    9   \n",
       "3    10/27\\n    @ BOS\\n   W 116-107\\n  43  84  51.200  21  29  72.400    9   \n",
       "4    10/28\\n   vs ATL\\n   W 122-111\\n  46  99  46.500  17  21  81.000   13   \n",
       "..       ...        ...           ...  ..  ..     ...  ..  ..     ...  ...   \n",
       "77   04/03\\n    @ BOS\\n                                                      \n",
       "78   04/05\\n    @ MIN\\n                                                      \n",
       "79   04/06\\n    @ ATL\\n                                                      \n",
       "80   04/08\\n   vs NYK\\n                                                      \n",
       "81   04/10\\n    @ CHA\\n                                                      \n",
       "\n",
       "   3FGA    3FG%  PTS  \n",
       "0    27  18.500   98  \n",
       "1    38  50.000  135  \n",
       "2    39  23.100   90  \n",
       "3    25  36.000  116  \n",
       "4    34  38.200  122  \n",
       "..  ...     ...  ...  \n",
       "77                    \n",
       "78                    \n",
       "79                    \n",
       "80                    \n",
       "81                    \n",
       "\n",
       "[82 rows x 13 columns]"
      ]
     },
     "execution_count": 6,
     "metadata": {},
     "output_type": "execute_result"
    }
   ],
   "source": [
    "column_values = ['Date','Opponent','Score','FGM','FGA','FG%','FTM','FTA','FT%','3FGM','3FGA','3FG%','PTS']\n",
    "\n",
    "# Create a dataframe\n",
    "df = pd.DataFrame(data = output_rows,\n",
    "                  columns = column_values)\n",
    "df"
   ]
  },
  {
   "cell_type": "code",
   "execution_count": 7,
   "id": "c113f675",
   "metadata": {},
   "outputs": [
    {
     "name": "stdout",
     "output_type": "stream",
     "text": [
      "<class 'pandas.core.frame.DataFrame'>\n",
      "RangeIndex: 82 entries, 0 to 81\n",
      "Data columns (total 13 columns):\n",
      " #   Column    Non-Null Count  Dtype \n",
      "---  ------    --------------  ----- \n",
      " 0   Date      82 non-null     object\n",
      " 1   Opponent  82 non-null     object\n",
      " 2   Score     82 non-null     object\n",
      " 3   FGM       82 non-null     object\n",
      " 4   FGA       82 non-null     object\n",
      " 5   FG%       82 non-null     object\n",
      " 6   FTM       82 non-null     object\n",
      " 7   FTA       82 non-null     object\n",
      " 8   FT%       82 non-null     object\n",
      " 9   3FGM      82 non-null     object\n",
      " 10  3FGA      82 non-null     object\n",
      " 11  3FG%      82 non-null     object\n",
      " 12  PTS       82 non-null     object\n",
      "dtypes: object(13)\n",
      "memory usage: 8.5+ KB\n"
     ]
    }
   ],
   "source": [
    "df.info()"
   ]
  },
  {
   "cell_type": "code",
   "execution_count": null,
   "id": "94446379",
   "metadata": {},
   "outputs": [],
   "source": []
  },
  {
   "cell_type": "code",
   "execution_count": 8,
   "id": "9e5959c1",
   "metadata": {},
   "outputs": [
    {
     "data": {
      "text/html": [
       "<div>\n",
       "<style scoped>\n",
       "    .dataframe tbody tr th:only-of-type {\n",
       "        vertical-align: middle;\n",
       "    }\n",
       "\n",
       "    .dataframe tbody tr th {\n",
       "        vertical-align: top;\n",
       "    }\n",
       "\n",
       "    .dataframe thead th {\n",
       "        text-align: right;\n",
       "    }\n",
       "</style>\n",
       "<table border=\"1\" class=\"dataframe\">\n",
       "  <thead>\n",
       "    <tr style=\"text-align: right;\">\n",
       "      <th></th>\n",
       "      <th>Date</th>\n",
       "      <th>Opponent</th>\n",
       "      <th>Score</th>\n",
       "      <th>FGM</th>\n",
       "      <th>FGA</th>\n",
       "      <th>FG%</th>\n",
       "      <th>FTM</th>\n",
       "      <th>FTA</th>\n",
       "      <th>FT%</th>\n",
       "      <th>3FGM</th>\n",
       "      <th>3FGA</th>\n",
       "      <th>3FG%</th>\n",
       "      <th>PTS</th>\n",
       "      <th>Result</th>\n",
       "      <th>OpScore</th>\n",
       "      <th>H/A</th>\n",
       "    </tr>\n",
       "  </thead>\n",
       "  <tbody>\n",
       "    <tr>\n",
       "      <th>0</th>\n",
       "      <td>10/20</td>\n",
       "      <td>TOR</td>\n",
       "      <td>98-83</td>\n",
       "      <td>36</td>\n",
       "      <td>81</td>\n",
       "      <td>44.4</td>\n",
       "      <td>21</td>\n",
       "      <td>26</td>\n",
       "      <td>80.8</td>\n",
       "      <td>5</td>\n",
       "      <td>27</td>\n",
       "      <td>18.5</td>\n",
       "      <td>98</td>\n",
       "      <td>W</td>\n",
       "      <td>83</td>\n",
       "      <td>Away</td>\n",
       "    </tr>\n",
       "    <tr>\n",
       "      <th>1</th>\n",
       "      <td>10/22</td>\n",
       "      <td>IND</td>\n",
       "      <td>135-134</td>\n",
       "      <td>49</td>\n",
       "      <td>94</td>\n",
       "      <td>52.1</td>\n",
       "      <td>18</td>\n",
       "      <td>19</td>\n",
       "      <td>94.7</td>\n",
       "      <td>19</td>\n",
       "      <td>38</td>\n",
       "      <td>50.0</td>\n",
       "      <td>135</td>\n",
       "      <td>W</td>\n",
       "      <td>134</td>\n",
       "      <td>Home</td>\n",
       "    </tr>\n",
       "    <tr>\n",
       "      <th>2</th>\n",
       "      <td>10/25</td>\n",
       "      <td>BKN</td>\n",
       "      <td>90-104</td>\n",
       "      <td>33</td>\n",
       "      <td>95</td>\n",
       "      <td>34.7</td>\n",
       "      <td>15</td>\n",
       "      <td>20</td>\n",
       "      <td>75.0</td>\n",
       "      <td>9</td>\n",
       "      <td>39</td>\n",
       "      <td>23.1</td>\n",
       "      <td>90</td>\n",
       "      <td>L</td>\n",
       "      <td>104</td>\n",
       "      <td>Away</td>\n",
       "    </tr>\n",
       "    <tr>\n",
       "      <th>3</th>\n",
       "      <td>10/27</td>\n",
       "      <td>BOS</td>\n",
       "      <td>116-107</td>\n",
       "      <td>43</td>\n",
       "      <td>84</td>\n",
       "      <td>51.2</td>\n",
       "      <td>21</td>\n",
       "      <td>29</td>\n",
       "      <td>72.4</td>\n",
       "      <td>9</td>\n",
       "      <td>25</td>\n",
       "      <td>36.0</td>\n",
       "      <td>116</td>\n",
       "      <td>W</td>\n",
       "      <td>107</td>\n",
       "      <td>Away</td>\n",
       "    </tr>\n",
       "    <tr>\n",
       "      <th>4</th>\n",
       "      <td>10/28</td>\n",
       "      <td>ATL</td>\n",
       "      <td>122-111</td>\n",
       "      <td>46</td>\n",
       "      <td>99</td>\n",
       "      <td>46.5</td>\n",
       "      <td>17</td>\n",
       "      <td>21</td>\n",
       "      <td>81.0</td>\n",
       "      <td>13</td>\n",
       "      <td>34</td>\n",
       "      <td>38.2</td>\n",
       "      <td>122</td>\n",
       "      <td>W</td>\n",
       "      <td>111</td>\n",
       "      <td>Home</td>\n",
       "    </tr>\n",
       "    <tr>\n",
       "      <th>5</th>\n",
       "      <td>10/30</td>\n",
       "      <td>BOS</td>\n",
       "      <td>115-112</td>\n",
       "      <td>38</td>\n",
       "      <td>104</td>\n",
       "      <td>36.5</td>\n",
       "      <td>29</td>\n",
       "      <td>36</td>\n",
       "      <td>80.6</td>\n",
       "      <td>10</td>\n",
       "      <td>36</td>\n",
       "      <td>27.8</td>\n",
       "      <td>115</td>\n",
       "      <td>W</td>\n",
       "      <td>112</td>\n",
       "      <td>Home</td>\n",
       "    </tr>\n",
       "    <tr>\n",
       "      <th>6</th>\n",
       "      <td>11/01</td>\n",
       "      <td>ATL</td>\n",
       "      <td>111-118</td>\n",
       "      <td>41</td>\n",
       "      <td>86</td>\n",
       "      <td>47.7</td>\n",
       "      <td>16</td>\n",
       "      <td>16</td>\n",
       "      <td>100.0</td>\n",
       "      <td>13</td>\n",
       "      <td>39</td>\n",
       "      <td>33.3</td>\n",
       "      <td>111</td>\n",
       "      <td>L</td>\n",
       "      <td>118</td>\n",
       "      <td>Away</td>\n",
       "    </tr>\n",
       "    <tr>\n",
       "      <th>7</th>\n",
       "      <td>11/03</td>\n",
       "      <td>TOR</td>\n",
       "      <td>100-109</td>\n",
       "      <td>34</td>\n",
       "      <td>78</td>\n",
       "      <td>43.6</td>\n",
       "      <td>24</td>\n",
       "      <td>30</td>\n",
       "      <td>80.0</td>\n",
       "      <td>8</td>\n",
       "      <td>32</td>\n",
       "      <td>25.0</td>\n",
       "      <td>100</td>\n",
       "      <td>L</td>\n",
       "      <td>109</td>\n",
       "      <td>Home</td>\n",
       "    </tr>\n",
       "    <tr>\n",
       "      <th>8</th>\n",
       "      <td>11/05</td>\n",
       "      <td>MEM</td>\n",
       "      <td>115-87</td>\n",
       "      <td>49</td>\n",
       "      <td>84</td>\n",
       "      <td>58.3</td>\n",
       "      <td>7</td>\n",
       "      <td>13</td>\n",
       "      <td>53.8</td>\n",
       "      <td>10</td>\n",
       "      <td>25</td>\n",
       "      <td>40.0</td>\n",
       "      <td>115</td>\n",
       "      <td>W</td>\n",
       "      <td>87</td>\n",
       "      <td>Home</td>\n",
       "    </tr>\n",
       "    <tr>\n",
       "      <th>9</th>\n",
       "      <td>11/07</td>\n",
       "      <td>MIL</td>\n",
       "      <td>101-94</td>\n",
       "      <td>41</td>\n",
       "      <td>81</td>\n",
       "      <td>50.6</td>\n",
       "      <td>8</td>\n",
       "      <td>13</td>\n",
       "      <td>61.5</td>\n",
       "      <td>11</td>\n",
       "      <td>27</td>\n",
       "      <td>40.7</td>\n",
       "      <td>101</td>\n",
       "      <td>W</td>\n",
       "      <td>94</td>\n",
       "      <td>Home</td>\n",
       "    </tr>\n",
       "    <tr>\n",
       "      <th>10</th>\n",
       "      <td>11/10</td>\n",
       "      <td>CLE</td>\n",
       "      <td>97-94</td>\n",
       "      <td>35</td>\n",
       "      <td>84</td>\n",
       "      <td>41.7</td>\n",
       "      <td>17</td>\n",
       "      <td>17</td>\n",
       "      <td>100.0</td>\n",
       "      <td>10</td>\n",
       "      <td>28</td>\n",
       "      <td>35.7</td>\n",
       "      <td>97</td>\n",
       "      <td>W</td>\n",
       "      <td>94</td>\n",
       "      <td>Away</td>\n",
       "    </tr>\n",
       "    <tr>\n",
       "      <th>11</th>\n",
       "      <td>11/13</td>\n",
       "      <td>ORL</td>\n",
       "      <td>104-92</td>\n",
       "      <td>42</td>\n",
       "      <td>84</td>\n",
       "      <td>50.0</td>\n",
       "      <td>8</td>\n",
       "      <td>10</td>\n",
       "      <td>80.0</td>\n",
       "      <td>12</td>\n",
       "      <td>35</td>\n",
       "      <td>34.3</td>\n",
       "      <td>104</td>\n",
       "      <td>W</td>\n",
       "      <td>92</td>\n",
       "      <td>Away</td>\n",
       "    </tr>\n",
       "    <tr>\n",
       "      <th>12</th>\n",
       "      <td>11/15</td>\n",
       "      <td>NOP</td>\n",
       "      <td>105-100</td>\n",
       "      <td>39</td>\n",
       "      <td>84</td>\n",
       "      <td>46.4</td>\n",
       "      <td>17</td>\n",
       "      <td>25</td>\n",
       "      <td>68.0</td>\n",
       "      <td>10</td>\n",
       "      <td>28</td>\n",
       "      <td>35.7</td>\n",
       "      <td>105</td>\n",
       "      <td>W</td>\n",
       "      <td>100</td>\n",
       "      <td>Home</td>\n",
       "    </tr>\n",
       "  </tbody>\n",
       "</table>\n",
       "</div>"
      ],
      "text/plain": [
       "      Date Opponent    Score  FGM  FGA   FG%  FTM  FTA    FT%  3FGM  3FGA  \\\n",
       "0    10/20     TOR     98-83   36   81  44.4   21   26   80.8     5    27   \n",
       "1    10/22     IND   135-134   49   94  52.1   18   19   94.7    19    38   \n",
       "2    10/25     BKN    90-104   33   95  34.7   15   20   75.0     9    39   \n",
       "3    10/27     BOS   116-107   43   84  51.2   21   29   72.4     9    25   \n",
       "4    10/28     ATL   122-111   46   99  46.5   17   21   81.0    13    34   \n",
       "5    10/30     BOS   115-112   38  104  36.5   29   36   80.6    10    36   \n",
       "6    11/01     ATL   111-118   41   86  47.7   16   16  100.0    13    39   \n",
       "7    11/03     TOR   100-109   34   78  43.6   24   30   80.0     8    32   \n",
       "8    11/05     MEM    115-87   49   84  58.3    7   13   53.8    10    25   \n",
       "9    11/07     MIL    101-94   41   81  50.6    8   13   61.5    11    27   \n",
       "10   11/10     CLE     97-94   35   84  41.7   17   17  100.0    10    28   \n",
       "11   11/13     ORL    104-92   42   84  50.0    8   10   80.0    12    35   \n",
       "12   11/15     NOP   105-100   39   84  46.4   17   25   68.0    10    28   \n",
       "\n",
       "    3FG%  PTS Result  OpScore   H/A  \n",
       "0   18.5   98      W       83  Away  \n",
       "1   50.0  135      W      134  Home  \n",
       "2   23.1   90      L      104  Away  \n",
       "3   36.0  116      W      107  Away  \n",
       "4   38.2  122      W      111  Home  \n",
       "5   27.8  115      W      112  Home  \n",
       "6   33.3  111      L      118  Away  \n",
       "7   25.0  100      L      109  Home  \n",
       "8   40.0  115      W       87  Home  \n",
       "9   40.7  101      W       94  Home  \n",
       "10  35.7   97      W       94  Away  \n",
       "11  34.3  104      W       92  Away  \n",
       "12  35.7  105      W      100  Home  "
      ]
     },
     "execution_count": 8,
     "metadata": {},
     "output_type": "execute_result"
    }
   ],
   "source": [
    "\n",
    "# Remove /n from Date, Opponent, and Score Columns\n",
    "df['Date'] = df['Date'].str.replace(\"\\n\",\"\")\n",
    "df['Opponent'] = df['Opponent'].str.replace(\"\\n\", \" \")\n",
    "\n",
    "# Remove the whitespace on the left of the Score Column\n",
    "df['Score'] = df['Score'].str.replace(\"\\n\",\"\").str.lstrip()\n",
    "# Create a Result Column and Update Score Column\n",
    "df[['Result','Score']] = df['Score'].str.split(' ',expand = True)\n",
    "# Create Opponents Score Column\n",
    "df['OpScore'] = df['Score'].str.split('-').str[1]\n",
    "\n",
    "# Home or Away Column\n",
    "df['H/A'] = df['Opponent'].str.split(' ').apply(lambda x: 'Away' if (x[1] == '@') else 'Home')\n",
    "                                               \n",
    "# Drop Games that haven't been played yet from the data\n",
    "df = df.dropna(axis = 0, how = 'any')\n",
    "\n",
    "# Covert the following columns to the int type\n",
    "int_cols = ['FGM','FGA','FTM','FTA','3FGM','3FGA','PTS','OpScore']\n",
    "df[int_cols] = df[int_cols].astype(int)\n",
    "# Convert the following columns to the float type\n",
    "float_cols = ['FG%','FT%','3FG%']\n",
    "df[float_cols] = df[float_cols].astype(float)\n",
    "\n",
    "\n",
    "# Format Opponent Column\n",
    "df['Opponent'] = df['Opponent'].str.replace('@','')\n",
    "df['Opponent'] = df['Opponent'].str.replace('vs','')\n",
    "df"
   ]
  },
  {
   "cell_type": "code",
   "execution_count": 9,
   "id": "a6fe38b8",
   "metadata": {},
   "outputs": [
    {
     "data": {
      "text/html": [
       "<div>\n",
       "<style scoped>\n",
       "    .dataframe tbody tr th:only-of-type {\n",
       "        vertical-align: middle;\n",
       "    }\n",
       "\n",
       "    .dataframe tbody tr th {\n",
       "        vertical-align: top;\n",
       "    }\n",
       "\n",
       "    .dataframe thead th {\n",
       "        text-align: right;\n",
       "    }\n",
       "</style>\n",
       "<table border=\"1\" class=\"dataframe\">\n",
       "  <thead>\n",
       "    <tr style=\"text-align: right;\">\n",
       "      <th></th>\n",
       "      <th>Date</th>\n",
       "      <th>Opponent</th>\n",
       "      <th>Score</th>\n",
       "      <th>FGM</th>\n",
       "      <th>FGA</th>\n",
       "      <th>FG%</th>\n",
       "      <th>FTM</th>\n",
       "      <th>FTA</th>\n",
       "      <th>FT%</th>\n",
       "      <th>3FGM</th>\n",
       "      <th>3FGA</th>\n",
       "      <th>3FG%</th>\n",
       "      <th>PTS</th>\n",
       "      <th>Result</th>\n",
       "      <th>OpScore</th>\n",
       "      <th>H/A</th>\n",
       "    </tr>\n",
       "  </thead>\n",
       "  <tbody>\n",
       "    <tr>\n",
       "      <th>0</th>\n",
       "      <td>10/20</td>\n",
       "      <td>TOR</td>\n",
       "      <td>98-83</td>\n",
       "      <td>36</td>\n",
       "      <td>81</td>\n",
       "      <td>44.4</td>\n",
       "      <td>21</td>\n",
       "      <td>26</td>\n",
       "      <td>80.8</td>\n",
       "      <td>5</td>\n",
       "      <td>27</td>\n",
       "      <td>18.5</td>\n",
       "      <td>98</td>\n",
       "      <td>W</td>\n",
       "      <td>83</td>\n",
       "      <td>Away</td>\n",
       "    </tr>\n",
       "    <tr>\n",
       "      <th>1</th>\n",
       "      <td>10/22</td>\n",
       "      <td>IND</td>\n",
       "      <td>135-134</td>\n",
       "      <td>49</td>\n",
       "      <td>94</td>\n",
       "      <td>52.1</td>\n",
       "      <td>18</td>\n",
       "      <td>19</td>\n",
       "      <td>94.7</td>\n",
       "      <td>19</td>\n",
       "      <td>38</td>\n",
       "      <td>50.0</td>\n",
       "      <td>135</td>\n",
       "      <td>W</td>\n",
       "      <td>134</td>\n",
       "      <td>Home</td>\n",
       "    </tr>\n",
       "    <tr>\n",
       "      <th>2</th>\n",
       "      <td>10/25</td>\n",
       "      <td>BKN</td>\n",
       "      <td>90-104</td>\n",
       "      <td>33</td>\n",
       "      <td>95</td>\n",
       "      <td>34.7</td>\n",
       "      <td>15</td>\n",
       "      <td>20</td>\n",
       "      <td>75.0</td>\n",
       "      <td>9</td>\n",
       "      <td>39</td>\n",
       "      <td>23.1</td>\n",
       "      <td>90</td>\n",
       "      <td>L</td>\n",
       "      <td>104</td>\n",
       "      <td>Away</td>\n",
       "    </tr>\n",
       "    <tr>\n",
       "      <th>3</th>\n",
       "      <td>10/27</td>\n",
       "      <td>BOS</td>\n",
       "      <td>116-107</td>\n",
       "      <td>43</td>\n",
       "      <td>84</td>\n",
       "      <td>51.2</td>\n",
       "      <td>21</td>\n",
       "      <td>29</td>\n",
       "      <td>72.4</td>\n",
       "      <td>9</td>\n",
       "      <td>25</td>\n",
       "      <td>36.0</td>\n",
       "      <td>116</td>\n",
       "      <td>W</td>\n",
       "      <td>107</td>\n",
       "      <td>Away</td>\n",
       "    </tr>\n",
       "    <tr>\n",
       "      <th>4</th>\n",
       "      <td>10/28</td>\n",
       "      <td>ATL</td>\n",
       "      <td>122-111</td>\n",
       "      <td>46</td>\n",
       "      <td>99</td>\n",
       "      <td>46.5</td>\n",
       "      <td>17</td>\n",
       "      <td>21</td>\n",
       "      <td>81.0</td>\n",
       "      <td>13</td>\n",
       "      <td>34</td>\n",
       "      <td>38.2</td>\n",
       "      <td>122</td>\n",
       "      <td>W</td>\n",
       "      <td>111</td>\n",
       "      <td>Home</td>\n",
       "    </tr>\n",
       "    <tr>\n",
       "      <th>5</th>\n",
       "      <td>10/30</td>\n",
       "      <td>BOS</td>\n",
       "      <td>115-112</td>\n",
       "      <td>38</td>\n",
       "      <td>104</td>\n",
       "      <td>36.5</td>\n",
       "      <td>29</td>\n",
       "      <td>36</td>\n",
       "      <td>80.6</td>\n",
       "      <td>10</td>\n",
       "      <td>36</td>\n",
       "      <td>27.8</td>\n",
       "      <td>115</td>\n",
       "      <td>W</td>\n",
       "      <td>112</td>\n",
       "      <td>Home</td>\n",
       "    </tr>\n",
       "    <tr>\n",
       "      <th>6</th>\n",
       "      <td>11/01</td>\n",
       "      <td>ATL</td>\n",
       "      <td>111-118</td>\n",
       "      <td>41</td>\n",
       "      <td>86</td>\n",
       "      <td>47.7</td>\n",
       "      <td>16</td>\n",
       "      <td>16</td>\n",
       "      <td>100.0</td>\n",
       "      <td>13</td>\n",
       "      <td>39</td>\n",
       "      <td>33.3</td>\n",
       "      <td>111</td>\n",
       "      <td>L</td>\n",
       "      <td>118</td>\n",
       "      <td>Away</td>\n",
       "    </tr>\n",
       "    <tr>\n",
       "      <th>7</th>\n",
       "      <td>11/03</td>\n",
       "      <td>TOR</td>\n",
       "      <td>100-109</td>\n",
       "      <td>34</td>\n",
       "      <td>78</td>\n",
       "      <td>43.6</td>\n",
       "      <td>24</td>\n",
       "      <td>30</td>\n",
       "      <td>80.0</td>\n",
       "      <td>8</td>\n",
       "      <td>32</td>\n",
       "      <td>25.0</td>\n",
       "      <td>100</td>\n",
       "      <td>L</td>\n",
       "      <td>109</td>\n",
       "      <td>Home</td>\n",
       "    </tr>\n",
       "    <tr>\n",
       "      <th>8</th>\n",
       "      <td>11/05</td>\n",
       "      <td>MEM</td>\n",
       "      <td>115-87</td>\n",
       "      <td>49</td>\n",
       "      <td>84</td>\n",
       "      <td>58.3</td>\n",
       "      <td>7</td>\n",
       "      <td>13</td>\n",
       "      <td>53.8</td>\n",
       "      <td>10</td>\n",
       "      <td>25</td>\n",
       "      <td>40.0</td>\n",
       "      <td>115</td>\n",
       "      <td>W</td>\n",
       "      <td>87</td>\n",
       "      <td>Home</td>\n",
       "    </tr>\n",
       "    <tr>\n",
       "      <th>9</th>\n",
       "      <td>11/07</td>\n",
       "      <td>MIL</td>\n",
       "      <td>101-94</td>\n",
       "      <td>41</td>\n",
       "      <td>81</td>\n",
       "      <td>50.6</td>\n",
       "      <td>8</td>\n",
       "      <td>13</td>\n",
       "      <td>61.5</td>\n",
       "      <td>11</td>\n",
       "      <td>27</td>\n",
       "      <td>40.7</td>\n",
       "      <td>101</td>\n",
       "      <td>W</td>\n",
       "      <td>94</td>\n",
       "      <td>Home</td>\n",
       "    </tr>\n",
       "    <tr>\n",
       "      <th>10</th>\n",
       "      <td>11/10</td>\n",
       "      <td>CLE</td>\n",
       "      <td>97-94</td>\n",
       "      <td>35</td>\n",
       "      <td>84</td>\n",
       "      <td>41.7</td>\n",
       "      <td>17</td>\n",
       "      <td>17</td>\n",
       "      <td>100.0</td>\n",
       "      <td>10</td>\n",
       "      <td>28</td>\n",
       "      <td>35.7</td>\n",
       "      <td>97</td>\n",
       "      <td>W</td>\n",
       "      <td>94</td>\n",
       "      <td>Away</td>\n",
       "    </tr>\n",
       "    <tr>\n",
       "      <th>11</th>\n",
       "      <td>11/13</td>\n",
       "      <td>ORL</td>\n",
       "      <td>104-92</td>\n",
       "      <td>42</td>\n",
       "      <td>84</td>\n",
       "      <td>50.0</td>\n",
       "      <td>8</td>\n",
       "      <td>10</td>\n",
       "      <td>80.0</td>\n",
       "      <td>12</td>\n",
       "      <td>35</td>\n",
       "      <td>34.3</td>\n",
       "      <td>104</td>\n",
       "      <td>W</td>\n",
       "      <td>92</td>\n",
       "      <td>Away</td>\n",
       "    </tr>\n",
       "    <tr>\n",
       "      <th>12</th>\n",
       "      <td>11/15</td>\n",
       "      <td>NOP</td>\n",
       "      <td>105-100</td>\n",
       "      <td>39</td>\n",
       "      <td>84</td>\n",
       "      <td>46.4</td>\n",
       "      <td>17</td>\n",
       "      <td>25</td>\n",
       "      <td>68.0</td>\n",
       "      <td>10</td>\n",
       "      <td>28</td>\n",
       "      <td>35.7</td>\n",
       "      <td>105</td>\n",
       "      <td>W</td>\n",
       "      <td>100</td>\n",
       "      <td>Home</td>\n",
       "    </tr>\n",
       "  </tbody>\n",
       "</table>\n",
       "</div>"
      ],
      "text/plain": [
       "      Date Opponent    Score  FGM  FGA   FG%  FTM  FTA    FT%  3FGM  3FGA  \\\n",
       "0    10/20     TOR     98-83   36   81  44.4   21   26   80.8     5    27   \n",
       "1    10/22     IND   135-134   49   94  52.1   18   19   94.7    19    38   \n",
       "2    10/25     BKN    90-104   33   95  34.7   15   20   75.0     9    39   \n",
       "3    10/27     BOS   116-107   43   84  51.2   21   29   72.4     9    25   \n",
       "4    10/28     ATL   122-111   46   99  46.5   17   21   81.0    13    34   \n",
       "5    10/30     BOS   115-112   38  104  36.5   29   36   80.6    10    36   \n",
       "6    11/01     ATL   111-118   41   86  47.7   16   16  100.0    13    39   \n",
       "7    11/03     TOR   100-109   34   78  43.6   24   30   80.0     8    32   \n",
       "8    11/05     MEM    115-87   49   84  58.3    7   13   53.8    10    25   \n",
       "9    11/07     MIL    101-94   41   81  50.6    8   13   61.5    11    27   \n",
       "10   11/10     CLE     97-94   35   84  41.7   17   17  100.0    10    28   \n",
       "11   11/13     ORL    104-92   42   84  50.0    8   10   80.0    12    35   \n",
       "12   11/15     NOP   105-100   39   84  46.4   17   25   68.0    10    28   \n",
       "\n",
       "    3FG%  PTS Result  OpScore   H/A  \n",
       "0   18.5   98      W       83  Away  \n",
       "1   50.0  135      W      134  Home  \n",
       "2   23.1   90      L      104  Away  \n",
       "3   36.0  116      W      107  Away  \n",
       "4   38.2  122      W      111  Home  \n",
       "5   27.8  115      W      112  Home  \n",
       "6   33.3  111      L      118  Away  \n",
       "7   25.0  100      L      109  Home  \n",
       "8   40.0  115      W       87  Home  \n",
       "9   40.7  101      W       94  Home  \n",
       "10  35.7   97      W       94  Away  \n",
       "11  34.3  104      W       92  Away  \n",
       "12  35.7  105      W      100  Home  "
      ]
     },
     "execution_count": 9,
     "metadata": {},
     "output_type": "execute_result"
    }
   ],
   "source": [
    "\n",
    "df"
   ]
  },
  {
   "cell_type": "code",
   "execution_count": null,
   "id": "a2a3a480",
   "metadata": {},
   "outputs": [],
   "source": [
    "\n",
    "    "
   ]
  },
  {
   "cell_type": "code",
   "execution_count": 42,
   "id": "0b79c75a",
   "metadata": {},
   "outputs": [
    {
     "data": {
      "text/plain": [
       "('4-2', '6-1')"
      ]
     },
     "execution_count": 42,
     "metadata": {},
     "output_type": "execute_result"
    }
   ],
   "source": [
    "# home_win_loss \n",
    "home_wins = len(df[(df['Result']=='W') & (df['H/A'] == 'Home')])\n",
    "home_losses = len(df[(df['Result']=='L') & (df['H/A'] == 'Home')])\n",
    "home_wl = str(home_wins) + '-' + str(home_losses)\n",
    "home_win_percentage = str((home_wins/(home_wins+home_losses)*100)) + '%'\n",
    "\n",
    "# away_win_loss\n",
    "road_wins = len(df[(df['Result']=='W') & (df['H/A'] == 'Away')])\n",
    "road_losses = len(df[(df['Result']=='L') & (df['H/A'] == 'Away')])\n",
    "road_wl = str(road_wins) + '-' + str(road_losses)\n",
    "\n",
    "#overall win_loss\n",
    "wins = len(df[df['Result'] == 'W'])\n",
    "losses = len(df[df['Result'] == 'L'])\n",
    "wl = str(wins) + '-' + str(losses)\n",
    "road_wl, home_wl"
   ]
  },
  {
   "cell_type": "code",
   "execution_count": 11,
   "id": "8c011f1f",
   "metadata": {},
   "outputs": [],
   "source": [
    "wins = []\n",
    "winpercentage = []\n",
    "def rollingWinPercentage(series):\n",
    "    result = series\n",
    "    for element in range(0,len(result)):\n",
    "        if result[element] == 'W':\n",
    "            wins.append(1)\n",
    "        else:\n",
    "            wins.append(0)\n",
    "            \n",
    "        wp = (sum(wins)/len(wins))\n",
    "        winpercentage.append(round(wp,2))\n",
    "        \n",
    "    return winpercentage\n",
    "            "
   ]
  },
  {
   "cell_type": "code",
   "execution_count": 12,
   "id": "c6d34c58",
   "metadata": {},
   "outputs": [
    {
     "data": {
      "text/plain": [
       "0     1.00\n",
       "1     1.00\n",
       "2     0.67\n",
       "3     0.75\n",
       "4     0.80\n",
       "5     0.83\n",
       "6     0.71\n",
       "7     0.62\n",
       "8     0.67\n",
       "9     0.70\n",
       "10    0.73\n",
       "11    0.75\n",
       "12    0.77\n",
       "dtype: float64"
      ]
     },
     "execution_count": 12,
     "metadata": {},
     "output_type": "execute_result"
    }
   ],
   "source": [
    "Win_Percentage = pd.Series(rollingWinPercentage(df['Result']))\n",
    "Win_Percentage"
   ]
  },
  {
   "cell_type": "code",
   "execution_count": 13,
   "id": "e843c7aa",
   "metadata": {},
   "outputs": [
    {
     "data": {
      "text/html": [
       "<div>\n",
       "<style scoped>\n",
       "    .dataframe tbody tr th:only-of-type {\n",
       "        vertical-align: middle;\n",
       "    }\n",
       "\n",
       "    .dataframe tbody tr th {\n",
       "        vertical-align: top;\n",
       "    }\n",
       "\n",
       "    .dataframe thead th {\n",
       "        text-align: right;\n",
       "    }\n",
       "</style>\n",
       "<table border=\"1\" class=\"dataframe\">\n",
       "  <thead>\n",
       "    <tr style=\"text-align: right;\">\n",
       "      <th></th>\n",
       "      <th>Date</th>\n",
       "      <th>Opponent</th>\n",
       "      <th>Score</th>\n",
       "      <th>FGM</th>\n",
       "      <th>FGA</th>\n",
       "      <th>FG%</th>\n",
       "      <th>FTM</th>\n",
       "      <th>FTA</th>\n",
       "      <th>FT%</th>\n",
       "      <th>3FGM</th>\n",
       "      <th>3FGA</th>\n",
       "      <th>3FG%</th>\n",
       "      <th>PTS</th>\n",
       "      <th>Result</th>\n",
       "      <th>OpScore</th>\n",
       "      <th>H/A</th>\n",
       "      <th>PointDiff</th>\n",
       "      <th>EFG%</th>\n",
       "      <th>FTR</th>\n",
       "      <th>Win Percentage</th>\n",
       "    </tr>\n",
       "  </thead>\n",
       "  <tbody>\n",
       "    <tr>\n",
       "      <th>0</th>\n",
       "      <td>10/20</td>\n",
       "      <td>TOR</td>\n",
       "      <td>98-83</td>\n",
       "      <td>36</td>\n",
       "      <td>81</td>\n",
       "      <td>44.4</td>\n",
       "      <td>21</td>\n",
       "      <td>26</td>\n",
       "      <td>80.8</td>\n",
       "      <td>5</td>\n",
       "      <td>27</td>\n",
       "      <td>18.5</td>\n",
       "      <td>98</td>\n",
       "      <td>W</td>\n",
       "      <td>83</td>\n",
       "      <td>Away</td>\n",
       "      <td>15</td>\n",
       "      <td>47.53</td>\n",
       "      <td>25.93</td>\n",
       "      <td>1.00</td>\n",
       "    </tr>\n",
       "    <tr>\n",
       "      <th>1</th>\n",
       "      <td>10/22</td>\n",
       "      <td>IND</td>\n",
       "      <td>135-134</td>\n",
       "      <td>49</td>\n",
       "      <td>94</td>\n",
       "      <td>52.1</td>\n",
       "      <td>18</td>\n",
       "      <td>19</td>\n",
       "      <td>94.7</td>\n",
       "      <td>19</td>\n",
       "      <td>38</td>\n",
       "      <td>50.0</td>\n",
       "      <td>135</td>\n",
       "      <td>W</td>\n",
       "      <td>134</td>\n",
       "      <td>Home</td>\n",
       "      <td>1</td>\n",
       "      <td>62.23</td>\n",
       "      <td>19.15</td>\n",
       "      <td>1.00</td>\n",
       "    </tr>\n",
       "    <tr>\n",
       "      <th>2</th>\n",
       "      <td>10/25</td>\n",
       "      <td>BKN</td>\n",
       "      <td>90-104</td>\n",
       "      <td>33</td>\n",
       "      <td>95</td>\n",
       "      <td>34.7</td>\n",
       "      <td>15</td>\n",
       "      <td>20</td>\n",
       "      <td>75.0</td>\n",
       "      <td>9</td>\n",
       "      <td>39</td>\n",
       "      <td>23.1</td>\n",
       "      <td>90</td>\n",
       "      <td>L</td>\n",
       "      <td>104</td>\n",
       "      <td>Away</td>\n",
       "      <td>-14</td>\n",
       "      <td>39.47</td>\n",
       "      <td>15.79</td>\n",
       "      <td>0.67</td>\n",
       "    </tr>\n",
       "    <tr>\n",
       "      <th>3</th>\n",
       "      <td>10/27</td>\n",
       "      <td>BOS</td>\n",
       "      <td>116-107</td>\n",
       "      <td>43</td>\n",
       "      <td>84</td>\n",
       "      <td>51.2</td>\n",
       "      <td>21</td>\n",
       "      <td>29</td>\n",
       "      <td>72.4</td>\n",
       "      <td>9</td>\n",
       "      <td>25</td>\n",
       "      <td>36.0</td>\n",
       "      <td>116</td>\n",
       "      <td>W</td>\n",
       "      <td>107</td>\n",
       "      <td>Away</td>\n",
       "      <td>9</td>\n",
       "      <td>56.55</td>\n",
       "      <td>25.00</td>\n",
       "      <td>0.75</td>\n",
       "    </tr>\n",
       "    <tr>\n",
       "      <th>4</th>\n",
       "      <td>10/28</td>\n",
       "      <td>ATL</td>\n",
       "      <td>122-111</td>\n",
       "      <td>46</td>\n",
       "      <td>99</td>\n",
       "      <td>46.5</td>\n",
       "      <td>17</td>\n",
       "      <td>21</td>\n",
       "      <td>81.0</td>\n",
       "      <td>13</td>\n",
       "      <td>34</td>\n",
       "      <td>38.2</td>\n",
       "      <td>122</td>\n",
       "      <td>W</td>\n",
       "      <td>111</td>\n",
       "      <td>Home</td>\n",
       "      <td>11</td>\n",
       "      <td>53.03</td>\n",
       "      <td>17.17</td>\n",
       "      <td>0.80</td>\n",
       "    </tr>\n",
       "    <tr>\n",
       "      <th>5</th>\n",
       "      <td>10/30</td>\n",
       "      <td>BOS</td>\n",
       "      <td>115-112</td>\n",
       "      <td>38</td>\n",
       "      <td>104</td>\n",
       "      <td>36.5</td>\n",
       "      <td>29</td>\n",
       "      <td>36</td>\n",
       "      <td>80.6</td>\n",
       "      <td>10</td>\n",
       "      <td>36</td>\n",
       "      <td>27.8</td>\n",
       "      <td>115</td>\n",
       "      <td>W</td>\n",
       "      <td>112</td>\n",
       "      <td>Home</td>\n",
       "      <td>3</td>\n",
       "      <td>41.35</td>\n",
       "      <td>27.88</td>\n",
       "      <td>0.83</td>\n",
       "    </tr>\n",
       "    <tr>\n",
       "      <th>6</th>\n",
       "      <td>11/01</td>\n",
       "      <td>ATL</td>\n",
       "      <td>111-118</td>\n",
       "      <td>41</td>\n",
       "      <td>86</td>\n",
       "      <td>47.7</td>\n",
       "      <td>16</td>\n",
       "      <td>16</td>\n",
       "      <td>100.0</td>\n",
       "      <td>13</td>\n",
       "      <td>39</td>\n",
       "      <td>33.3</td>\n",
       "      <td>111</td>\n",
       "      <td>L</td>\n",
       "      <td>118</td>\n",
       "      <td>Away</td>\n",
       "      <td>-7</td>\n",
       "      <td>55.23</td>\n",
       "      <td>18.60</td>\n",
       "      <td>0.71</td>\n",
       "    </tr>\n",
       "    <tr>\n",
       "      <th>7</th>\n",
       "      <td>11/03</td>\n",
       "      <td>TOR</td>\n",
       "      <td>100-109</td>\n",
       "      <td>34</td>\n",
       "      <td>78</td>\n",
       "      <td>43.6</td>\n",
       "      <td>24</td>\n",
       "      <td>30</td>\n",
       "      <td>80.0</td>\n",
       "      <td>8</td>\n",
       "      <td>32</td>\n",
       "      <td>25.0</td>\n",
       "      <td>100</td>\n",
       "      <td>L</td>\n",
       "      <td>109</td>\n",
       "      <td>Home</td>\n",
       "      <td>-9</td>\n",
       "      <td>48.72</td>\n",
       "      <td>30.77</td>\n",
       "      <td>0.62</td>\n",
       "    </tr>\n",
       "    <tr>\n",
       "      <th>8</th>\n",
       "      <td>11/05</td>\n",
       "      <td>MEM</td>\n",
       "      <td>115-87</td>\n",
       "      <td>49</td>\n",
       "      <td>84</td>\n",
       "      <td>58.3</td>\n",
       "      <td>7</td>\n",
       "      <td>13</td>\n",
       "      <td>53.8</td>\n",
       "      <td>10</td>\n",
       "      <td>25</td>\n",
       "      <td>40.0</td>\n",
       "      <td>115</td>\n",
       "      <td>W</td>\n",
       "      <td>87</td>\n",
       "      <td>Home</td>\n",
       "      <td>28</td>\n",
       "      <td>64.29</td>\n",
       "      <td>8.33</td>\n",
       "      <td>0.67</td>\n",
       "    </tr>\n",
       "    <tr>\n",
       "      <th>9</th>\n",
       "      <td>11/07</td>\n",
       "      <td>MIL</td>\n",
       "      <td>101-94</td>\n",
       "      <td>41</td>\n",
       "      <td>81</td>\n",
       "      <td>50.6</td>\n",
       "      <td>8</td>\n",
       "      <td>13</td>\n",
       "      <td>61.5</td>\n",
       "      <td>11</td>\n",
       "      <td>27</td>\n",
       "      <td>40.7</td>\n",
       "      <td>101</td>\n",
       "      <td>W</td>\n",
       "      <td>94</td>\n",
       "      <td>Home</td>\n",
       "      <td>7</td>\n",
       "      <td>57.41</td>\n",
       "      <td>9.88</td>\n",
       "      <td>0.70</td>\n",
       "    </tr>\n",
       "    <tr>\n",
       "      <th>10</th>\n",
       "      <td>11/10</td>\n",
       "      <td>CLE</td>\n",
       "      <td>97-94</td>\n",
       "      <td>35</td>\n",
       "      <td>84</td>\n",
       "      <td>41.7</td>\n",
       "      <td>17</td>\n",
       "      <td>17</td>\n",
       "      <td>100.0</td>\n",
       "      <td>10</td>\n",
       "      <td>28</td>\n",
       "      <td>35.7</td>\n",
       "      <td>97</td>\n",
       "      <td>W</td>\n",
       "      <td>94</td>\n",
       "      <td>Away</td>\n",
       "      <td>3</td>\n",
       "      <td>47.62</td>\n",
       "      <td>20.24</td>\n",
       "      <td>0.73</td>\n",
       "    </tr>\n",
       "    <tr>\n",
       "      <th>11</th>\n",
       "      <td>11/13</td>\n",
       "      <td>ORL</td>\n",
       "      <td>104-92</td>\n",
       "      <td>42</td>\n",
       "      <td>84</td>\n",
       "      <td>50.0</td>\n",
       "      <td>8</td>\n",
       "      <td>10</td>\n",
       "      <td>80.0</td>\n",
       "      <td>12</td>\n",
       "      <td>35</td>\n",
       "      <td>34.3</td>\n",
       "      <td>104</td>\n",
       "      <td>W</td>\n",
       "      <td>92</td>\n",
       "      <td>Away</td>\n",
       "      <td>12</td>\n",
       "      <td>57.14</td>\n",
       "      <td>9.52</td>\n",
       "      <td>0.75</td>\n",
       "    </tr>\n",
       "    <tr>\n",
       "      <th>12</th>\n",
       "      <td>11/15</td>\n",
       "      <td>NOP</td>\n",
       "      <td>105-100</td>\n",
       "      <td>39</td>\n",
       "      <td>84</td>\n",
       "      <td>46.4</td>\n",
       "      <td>17</td>\n",
       "      <td>25</td>\n",
       "      <td>68.0</td>\n",
       "      <td>10</td>\n",
       "      <td>28</td>\n",
       "      <td>35.7</td>\n",
       "      <td>105</td>\n",
       "      <td>W</td>\n",
       "      <td>100</td>\n",
       "      <td>Home</td>\n",
       "      <td>5</td>\n",
       "      <td>52.38</td>\n",
       "      <td>20.24</td>\n",
       "      <td>0.77</td>\n",
       "    </tr>\n",
       "  </tbody>\n",
       "</table>\n",
       "</div>"
      ],
      "text/plain": [
       "      Date Opponent    Score  FGM  FGA   FG%  FTM  FTA    FT%  3FGM  3FGA  \\\n",
       "0    10/20     TOR     98-83   36   81  44.4   21   26   80.8     5    27   \n",
       "1    10/22     IND   135-134   49   94  52.1   18   19   94.7    19    38   \n",
       "2    10/25     BKN    90-104   33   95  34.7   15   20   75.0     9    39   \n",
       "3    10/27     BOS   116-107   43   84  51.2   21   29   72.4     9    25   \n",
       "4    10/28     ATL   122-111   46   99  46.5   17   21   81.0    13    34   \n",
       "5    10/30     BOS   115-112   38  104  36.5   29   36   80.6    10    36   \n",
       "6    11/01     ATL   111-118   41   86  47.7   16   16  100.0    13    39   \n",
       "7    11/03     TOR   100-109   34   78  43.6   24   30   80.0     8    32   \n",
       "8    11/05     MEM    115-87   49   84  58.3    7   13   53.8    10    25   \n",
       "9    11/07     MIL    101-94   41   81  50.6    8   13   61.5    11    27   \n",
       "10   11/10     CLE     97-94   35   84  41.7   17   17  100.0    10    28   \n",
       "11   11/13     ORL    104-92   42   84  50.0    8   10   80.0    12    35   \n",
       "12   11/15     NOP   105-100   39   84  46.4   17   25   68.0    10    28   \n",
       "\n",
       "    3FG%  PTS Result  OpScore   H/A  PointDiff   EFG%    FTR  Win Percentage  \n",
       "0   18.5   98      W       83  Away         15  47.53  25.93            1.00  \n",
       "1   50.0  135      W      134  Home          1  62.23  19.15            1.00  \n",
       "2   23.1   90      L      104  Away        -14  39.47  15.79            0.67  \n",
       "3   36.0  116      W      107  Away          9  56.55  25.00            0.75  \n",
       "4   38.2  122      W      111  Home         11  53.03  17.17            0.80  \n",
       "5   27.8  115      W      112  Home          3  41.35  27.88            0.83  \n",
       "6   33.3  111      L      118  Away         -7  55.23  18.60            0.71  \n",
       "7   25.0  100      L      109  Home         -9  48.72  30.77            0.62  \n",
       "8   40.0  115      W       87  Home         28  64.29   8.33            0.67  \n",
       "9   40.7  101      W       94  Home          7  57.41   9.88            0.70  \n",
       "10  35.7   97      W       94  Away          3  47.62  20.24            0.73  \n",
       "11  34.3  104      W       92  Away         12  57.14   9.52            0.75  \n",
       "12  35.7  105      W      100  Home          5  52.38  20.24            0.77  "
      ]
     },
     "execution_count": 13,
     "metadata": {},
     "output_type": "execute_result"
    }
   ],
   "source": [
    "# Feature Engineering\n",
    "\n",
    "# Create a point differential column\n",
    "df['PointDiff'] = df['PTS'] - df['OpScore']\n",
    "\n",
    "# Effective Field Goal Percentage\n",
    "df['EFG%'] = (((df['FGM'] + 0.5*df['3FGM'])/df['FGA'])*100).round(2)\n",
    "\n",
    "# Free Throw Rate\n",
    "df['FTR'] = ((df['FTM']/df['FGA'])*100).round(2)\n",
    "\n",
    "# Win Percentage Column\n",
    "df['Win Percentage'] = Win_Percentage\n",
    "\n",
    "df\n",
    "\n"
   ]
  },
  {
   "cell_type": "code",
   "execution_count": 28,
   "id": "850d2440",
   "metadata": {},
   "outputs": [],
   "source": [
    "def lineplot(dataframe, xcol, ycol, Graph_title, font_style = 'Georgia'):\n",
    "    \n",
    "    fig = px.line(dataframe, x = xcol, y = ycol, title = Graph_title,template = 'simple_white',markers = True)\n",
    "\n",
    "    # fig = px.line(df, x = 'Date', y = 'PointDiff', title = 'Point Differential',template = 'simple_white')\n",
    "    fig.update_layout(font_family = font_style, title_x = 0.5, font = dict(size = 18, color = 'Black'))\n",
    "    \n",
    "    return fig"
   ]
  },
  {
   "cell_type": "code",
   "execution_count": 29,
   "id": "e7be97cb",
   "metadata": {},
   "outputs": [
    {
     "data": {
      "application/vnd.plotly.v1+json": {
       "config": {
        "plotlyServerURL": "https://plot.ly"
       },
       "data": [
        {
         "hovertemplate": "Date=%{x}<br>PointDiff=%{y}<extra></extra>",
         "legendgroup": "",
         "line": {
          "color": "#1F77B4",
          "dash": "solid"
         },
         "marker": {
          "symbol": "circle"
         },
         "mode": "markers+lines",
         "name": "",
         "orientation": "v",
         "showlegend": false,
         "type": "scatter",
         "x": [
          " 10/20",
          " 10/22",
          " 10/25",
          " 10/27",
          " 10/28",
          " 10/30",
          " 11/01",
          " 11/03",
          " 11/05",
          " 11/07",
          " 11/10",
          " 11/13",
          " 11/15"
         ],
         "xaxis": "x",
         "y": [
          15,
          1,
          -14,
          9,
          11,
          3,
          -7,
          -9,
          28,
          7,
          3,
          12,
          5
         ],
         "yaxis": "y"
        }
       ],
       "layout": {
        "font": {
         "color": "Black",
         "family": "Georgia",
         "size": 18
        },
        "legend": {
         "tracegroupgap": 0
        },
        "template": {
         "data": {
          "bar": [
           {
            "error_x": {
             "color": "rgb(36,36,36)"
            },
            "error_y": {
             "color": "rgb(36,36,36)"
            },
            "marker": {
             "line": {
              "color": "white",
              "width": 0.5
             },
             "pattern": {
              "fillmode": "overlay",
              "size": 10,
              "solidity": 0.2
             }
            },
            "type": "bar"
           }
          ],
          "barpolar": [
           {
            "marker": {
             "line": {
              "color": "white",
              "width": 0.5
             },
             "pattern": {
              "fillmode": "overlay",
              "size": 10,
              "solidity": 0.2
             }
            },
            "type": "barpolar"
           }
          ],
          "carpet": [
           {
            "aaxis": {
             "endlinecolor": "rgb(36,36,36)",
             "gridcolor": "white",
             "linecolor": "white",
             "minorgridcolor": "white",
             "startlinecolor": "rgb(36,36,36)"
            },
            "baxis": {
             "endlinecolor": "rgb(36,36,36)",
             "gridcolor": "white",
             "linecolor": "white",
             "minorgridcolor": "white",
             "startlinecolor": "rgb(36,36,36)"
            },
            "type": "carpet"
           }
          ],
          "choropleth": [
           {
            "colorbar": {
             "outlinewidth": 1,
             "tickcolor": "rgb(36,36,36)",
             "ticks": "outside"
            },
            "type": "choropleth"
           }
          ],
          "contour": [
           {
            "colorbar": {
             "outlinewidth": 1,
             "tickcolor": "rgb(36,36,36)",
             "ticks": "outside"
            },
            "colorscale": [
             [
              0,
              "#440154"
             ],
             [
              0.1111111111111111,
              "#482878"
             ],
             [
              0.2222222222222222,
              "#3e4989"
             ],
             [
              0.3333333333333333,
              "#31688e"
             ],
             [
              0.4444444444444444,
              "#26828e"
             ],
             [
              0.5555555555555556,
              "#1f9e89"
             ],
             [
              0.6666666666666666,
              "#35b779"
             ],
             [
              0.7777777777777778,
              "#6ece58"
             ],
             [
              0.8888888888888888,
              "#b5de2b"
             ],
             [
              1,
              "#fde725"
             ]
            ],
            "type": "contour"
           }
          ],
          "contourcarpet": [
           {
            "colorbar": {
             "outlinewidth": 1,
             "tickcolor": "rgb(36,36,36)",
             "ticks": "outside"
            },
            "type": "contourcarpet"
           }
          ],
          "heatmap": [
           {
            "colorbar": {
             "outlinewidth": 1,
             "tickcolor": "rgb(36,36,36)",
             "ticks": "outside"
            },
            "colorscale": [
             [
              0,
              "#440154"
             ],
             [
              0.1111111111111111,
              "#482878"
             ],
             [
              0.2222222222222222,
              "#3e4989"
             ],
             [
              0.3333333333333333,
              "#31688e"
             ],
             [
              0.4444444444444444,
              "#26828e"
             ],
             [
              0.5555555555555556,
              "#1f9e89"
             ],
             [
              0.6666666666666666,
              "#35b779"
             ],
             [
              0.7777777777777778,
              "#6ece58"
             ],
             [
              0.8888888888888888,
              "#b5de2b"
             ],
             [
              1,
              "#fde725"
             ]
            ],
            "type": "heatmap"
           }
          ],
          "heatmapgl": [
           {
            "colorbar": {
             "outlinewidth": 1,
             "tickcolor": "rgb(36,36,36)",
             "ticks": "outside"
            },
            "colorscale": [
             [
              0,
              "#440154"
             ],
             [
              0.1111111111111111,
              "#482878"
             ],
             [
              0.2222222222222222,
              "#3e4989"
             ],
             [
              0.3333333333333333,
              "#31688e"
             ],
             [
              0.4444444444444444,
              "#26828e"
             ],
             [
              0.5555555555555556,
              "#1f9e89"
             ],
             [
              0.6666666666666666,
              "#35b779"
             ],
             [
              0.7777777777777778,
              "#6ece58"
             ],
             [
              0.8888888888888888,
              "#b5de2b"
             ],
             [
              1,
              "#fde725"
             ]
            ],
            "type": "heatmapgl"
           }
          ],
          "histogram": [
           {
            "marker": {
             "line": {
              "color": "white",
              "width": 0.6
             }
            },
            "type": "histogram"
           }
          ],
          "histogram2d": [
           {
            "colorbar": {
             "outlinewidth": 1,
             "tickcolor": "rgb(36,36,36)",
             "ticks": "outside"
            },
            "colorscale": [
             [
              0,
              "#440154"
             ],
             [
              0.1111111111111111,
              "#482878"
             ],
             [
              0.2222222222222222,
              "#3e4989"
             ],
             [
              0.3333333333333333,
              "#31688e"
             ],
             [
              0.4444444444444444,
              "#26828e"
             ],
             [
              0.5555555555555556,
              "#1f9e89"
             ],
             [
              0.6666666666666666,
              "#35b779"
             ],
             [
              0.7777777777777778,
              "#6ece58"
             ],
             [
              0.8888888888888888,
              "#b5de2b"
             ],
             [
              1,
              "#fde725"
             ]
            ],
            "type": "histogram2d"
           }
          ],
          "histogram2dcontour": [
           {
            "colorbar": {
             "outlinewidth": 1,
             "tickcolor": "rgb(36,36,36)",
             "ticks": "outside"
            },
            "colorscale": [
             [
              0,
              "#440154"
             ],
             [
              0.1111111111111111,
              "#482878"
             ],
             [
              0.2222222222222222,
              "#3e4989"
             ],
             [
              0.3333333333333333,
              "#31688e"
             ],
             [
              0.4444444444444444,
              "#26828e"
             ],
             [
              0.5555555555555556,
              "#1f9e89"
             ],
             [
              0.6666666666666666,
              "#35b779"
             ],
             [
              0.7777777777777778,
              "#6ece58"
             ],
             [
              0.8888888888888888,
              "#b5de2b"
             ],
             [
              1,
              "#fde725"
             ]
            ],
            "type": "histogram2dcontour"
           }
          ],
          "mesh3d": [
           {
            "colorbar": {
             "outlinewidth": 1,
             "tickcolor": "rgb(36,36,36)",
             "ticks": "outside"
            },
            "type": "mesh3d"
           }
          ],
          "parcoords": [
           {
            "line": {
             "colorbar": {
              "outlinewidth": 1,
              "tickcolor": "rgb(36,36,36)",
              "ticks": "outside"
             }
            },
            "type": "parcoords"
           }
          ],
          "pie": [
           {
            "automargin": true,
            "type": "pie"
           }
          ],
          "scatter": [
           {
            "marker": {
             "colorbar": {
              "outlinewidth": 1,
              "tickcolor": "rgb(36,36,36)",
              "ticks": "outside"
             }
            },
            "type": "scatter"
           }
          ],
          "scatter3d": [
           {
            "line": {
             "colorbar": {
              "outlinewidth": 1,
              "tickcolor": "rgb(36,36,36)",
              "ticks": "outside"
             }
            },
            "marker": {
             "colorbar": {
              "outlinewidth": 1,
              "tickcolor": "rgb(36,36,36)",
              "ticks": "outside"
             }
            },
            "type": "scatter3d"
           }
          ],
          "scattercarpet": [
           {
            "marker": {
             "colorbar": {
              "outlinewidth": 1,
              "tickcolor": "rgb(36,36,36)",
              "ticks": "outside"
             }
            },
            "type": "scattercarpet"
           }
          ],
          "scattergeo": [
           {
            "marker": {
             "colorbar": {
              "outlinewidth": 1,
              "tickcolor": "rgb(36,36,36)",
              "ticks": "outside"
             }
            },
            "type": "scattergeo"
           }
          ],
          "scattergl": [
           {
            "marker": {
             "colorbar": {
              "outlinewidth": 1,
              "tickcolor": "rgb(36,36,36)",
              "ticks": "outside"
             }
            },
            "type": "scattergl"
           }
          ],
          "scattermapbox": [
           {
            "marker": {
             "colorbar": {
              "outlinewidth": 1,
              "tickcolor": "rgb(36,36,36)",
              "ticks": "outside"
             }
            },
            "type": "scattermapbox"
           }
          ],
          "scatterpolar": [
           {
            "marker": {
             "colorbar": {
              "outlinewidth": 1,
              "tickcolor": "rgb(36,36,36)",
              "ticks": "outside"
             }
            },
            "type": "scatterpolar"
           }
          ],
          "scatterpolargl": [
           {
            "marker": {
             "colorbar": {
              "outlinewidth": 1,
              "tickcolor": "rgb(36,36,36)",
              "ticks": "outside"
             }
            },
            "type": "scatterpolargl"
           }
          ],
          "scatterternary": [
           {
            "marker": {
             "colorbar": {
              "outlinewidth": 1,
              "tickcolor": "rgb(36,36,36)",
              "ticks": "outside"
             }
            },
            "type": "scatterternary"
           }
          ],
          "surface": [
           {
            "colorbar": {
             "outlinewidth": 1,
             "tickcolor": "rgb(36,36,36)",
             "ticks": "outside"
            },
            "colorscale": [
             [
              0,
              "#440154"
             ],
             [
              0.1111111111111111,
              "#482878"
             ],
             [
              0.2222222222222222,
              "#3e4989"
             ],
             [
              0.3333333333333333,
              "#31688e"
             ],
             [
              0.4444444444444444,
              "#26828e"
             ],
             [
              0.5555555555555556,
              "#1f9e89"
             ],
             [
              0.6666666666666666,
              "#35b779"
             ],
             [
              0.7777777777777778,
              "#6ece58"
             ],
             [
              0.8888888888888888,
              "#b5de2b"
             ],
             [
              1,
              "#fde725"
             ]
            ],
            "type": "surface"
           }
          ],
          "table": [
           {
            "cells": {
             "fill": {
              "color": "rgb(237,237,237)"
             },
             "line": {
              "color": "white"
             }
            },
            "header": {
             "fill": {
              "color": "rgb(217,217,217)"
             },
             "line": {
              "color": "white"
             }
            },
            "type": "table"
           }
          ]
         },
         "layout": {
          "annotationdefaults": {
           "arrowhead": 0,
           "arrowwidth": 1
          },
          "autotypenumbers": "strict",
          "coloraxis": {
           "colorbar": {
            "outlinewidth": 1,
            "tickcolor": "rgb(36,36,36)",
            "ticks": "outside"
           }
          },
          "colorscale": {
           "diverging": [
            [
             0,
             "rgb(103,0,31)"
            ],
            [
             0.1,
             "rgb(178,24,43)"
            ],
            [
             0.2,
             "rgb(214,96,77)"
            ],
            [
             0.3,
             "rgb(244,165,130)"
            ],
            [
             0.4,
             "rgb(253,219,199)"
            ],
            [
             0.5,
             "rgb(247,247,247)"
            ],
            [
             0.6,
             "rgb(209,229,240)"
            ],
            [
             0.7,
             "rgb(146,197,222)"
            ],
            [
             0.8,
             "rgb(67,147,195)"
            ],
            [
             0.9,
             "rgb(33,102,172)"
            ],
            [
             1,
             "rgb(5,48,97)"
            ]
           ],
           "sequential": [
            [
             0,
             "#440154"
            ],
            [
             0.1111111111111111,
             "#482878"
            ],
            [
             0.2222222222222222,
             "#3e4989"
            ],
            [
             0.3333333333333333,
             "#31688e"
            ],
            [
             0.4444444444444444,
             "#26828e"
            ],
            [
             0.5555555555555556,
             "#1f9e89"
            ],
            [
             0.6666666666666666,
             "#35b779"
            ],
            [
             0.7777777777777778,
             "#6ece58"
            ],
            [
             0.8888888888888888,
             "#b5de2b"
            ],
            [
             1,
             "#fde725"
            ]
           ],
           "sequentialminus": [
            [
             0,
             "#440154"
            ],
            [
             0.1111111111111111,
             "#482878"
            ],
            [
             0.2222222222222222,
             "#3e4989"
            ],
            [
             0.3333333333333333,
             "#31688e"
            ],
            [
             0.4444444444444444,
             "#26828e"
            ],
            [
             0.5555555555555556,
             "#1f9e89"
            ],
            [
             0.6666666666666666,
             "#35b779"
            ],
            [
             0.7777777777777778,
             "#6ece58"
            ],
            [
             0.8888888888888888,
             "#b5de2b"
            ],
            [
             1,
             "#fde725"
            ]
           ]
          },
          "colorway": [
           "#1F77B4",
           "#FF7F0E",
           "#2CA02C",
           "#D62728",
           "#9467BD",
           "#8C564B",
           "#E377C2",
           "#7F7F7F",
           "#BCBD22",
           "#17BECF"
          ],
          "font": {
           "color": "rgb(36,36,36)"
          },
          "geo": {
           "bgcolor": "white",
           "lakecolor": "white",
           "landcolor": "white",
           "showlakes": true,
           "showland": true,
           "subunitcolor": "white"
          },
          "hoverlabel": {
           "align": "left"
          },
          "hovermode": "closest",
          "mapbox": {
           "style": "light"
          },
          "paper_bgcolor": "white",
          "plot_bgcolor": "white",
          "polar": {
           "angularaxis": {
            "gridcolor": "rgb(232,232,232)",
            "linecolor": "rgb(36,36,36)",
            "showgrid": false,
            "showline": true,
            "ticks": "outside"
           },
           "bgcolor": "white",
           "radialaxis": {
            "gridcolor": "rgb(232,232,232)",
            "linecolor": "rgb(36,36,36)",
            "showgrid": false,
            "showline": true,
            "ticks": "outside"
           }
          },
          "scene": {
           "xaxis": {
            "backgroundcolor": "white",
            "gridcolor": "rgb(232,232,232)",
            "gridwidth": 2,
            "linecolor": "rgb(36,36,36)",
            "showbackground": true,
            "showgrid": false,
            "showline": true,
            "ticks": "outside",
            "zeroline": false,
            "zerolinecolor": "rgb(36,36,36)"
           },
           "yaxis": {
            "backgroundcolor": "white",
            "gridcolor": "rgb(232,232,232)",
            "gridwidth": 2,
            "linecolor": "rgb(36,36,36)",
            "showbackground": true,
            "showgrid": false,
            "showline": true,
            "ticks": "outside",
            "zeroline": false,
            "zerolinecolor": "rgb(36,36,36)"
           },
           "zaxis": {
            "backgroundcolor": "white",
            "gridcolor": "rgb(232,232,232)",
            "gridwidth": 2,
            "linecolor": "rgb(36,36,36)",
            "showbackground": true,
            "showgrid": false,
            "showline": true,
            "ticks": "outside",
            "zeroline": false,
            "zerolinecolor": "rgb(36,36,36)"
           }
          },
          "shapedefaults": {
           "fillcolor": "black",
           "line": {
            "width": 0
           },
           "opacity": 0.3
          },
          "ternary": {
           "aaxis": {
            "gridcolor": "rgb(232,232,232)",
            "linecolor": "rgb(36,36,36)",
            "showgrid": false,
            "showline": true,
            "ticks": "outside"
           },
           "baxis": {
            "gridcolor": "rgb(232,232,232)",
            "linecolor": "rgb(36,36,36)",
            "showgrid": false,
            "showline": true,
            "ticks": "outside"
           },
           "bgcolor": "white",
           "caxis": {
            "gridcolor": "rgb(232,232,232)",
            "linecolor": "rgb(36,36,36)",
            "showgrid": false,
            "showline": true,
            "ticks": "outside"
           }
          },
          "title": {
           "x": 0.05
          },
          "xaxis": {
           "automargin": true,
           "gridcolor": "rgb(232,232,232)",
           "linecolor": "rgb(36,36,36)",
           "showgrid": false,
           "showline": true,
           "ticks": "outside",
           "title": {
            "standoff": 15
           },
           "zeroline": false,
           "zerolinecolor": "rgb(36,36,36)"
          },
          "yaxis": {
           "automargin": true,
           "gridcolor": "rgb(232,232,232)",
           "linecolor": "rgb(36,36,36)",
           "showgrid": false,
           "showline": true,
           "ticks": "outside",
           "title": {
            "standoff": 15
           },
           "zeroline": false,
           "zerolinecolor": "rgb(36,36,36)"
          }
         }
        },
        "title": {
         "text": "Point Differential",
         "x": 0.5
        },
        "xaxis": {
         "anchor": "y",
         "domain": [
          0,
          1
         ],
         "title": {
          "text": "Date"
         }
        },
        "yaxis": {
         "anchor": "x",
         "domain": [
          0,
          1
         ],
         "title": {
          "text": "PointDiff"
         }
        }
       }
      },
      "text/html": [
       "<div>                            <div id=\"4dca7fc8-17a1-4393-ace6-4e288f2cd37f\" class=\"plotly-graph-div\" style=\"height:525px; width:100%;\"></div>            <script type=\"text/javascript\">                require([\"plotly\"], function(Plotly) {                    window.PLOTLYENV=window.PLOTLYENV || {};                                    if (document.getElementById(\"4dca7fc8-17a1-4393-ace6-4e288f2cd37f\")) {                    Plotly.newPlot(                        \"4dca7fc8-17a1-4393-ace6-4e288f2cd37f\",                        [{\"hovertemplate\":\"Date=%{x}<br>PointDiff=%{y}<extra></extra>\",\"legendgroup\":\"\",\"line\":{\"color\":\"#1F77B4\",\"dash\":\"solid\"},\"marker\":{\"symbol\":\"circle\"},\"mode\":\"markers+lines\",\"name\":\"\",\"orientation\":\"v\",\"showlegend\":false,\"x\":[\" 10/20\",\" 10/22\",\" 10/25\",\" 10/27\",\" 10/28\",\" 10/30\",\" 11/01\",\" 11/03\",\" 11/05\",\" 11/07\",\" 11/10\",\" 11/13\",\" 11/15\"],\"xaxis\":\"x\",\"y\":[15,1,-14,9,11,3,-7,-9,28,7,3,12,5],\"yaxis\":\"y\",\"type\":\"scatter\"}],                        {\"template\":{\"data\":{\"barpolar\":[{\"marker\":{\"line\":{\"color\":\"white\",\"width\":0.5},\"pattern\":{\"fillmode\":\"overlay\",\"size\":10,\"solidity\":0.2}},\"type\":\"barpolar\"}],\"bar\":[{\"error_x\":{\"color\":\"rgb(36,36,36)\"},\"error_y\":{\"color\":\"rgb(36,36,36)\"},\"marker\":{\"line\":{\"color\":\"white\",\"width\":0.5},\"pattern\":{\"fillmode\":\"overlay\",\"size\":10,\"solidity\":0.2}},\"type\":\"bar\"}],\"carpet\":[{\"aaxis\":{\"endlinecolor\":\"rgb(36,36,36)\",\"gridcolor\":\"white\",\"linecolor\":\"white\",\"minorgridcolor\":\"white\",\"startlinecolor\":\"rgb(36,36,36)\"},\"baxis\":{\"endlinecolor\":\"rgb(36,36,36)\",\"gridcolor\":\"white\",\"linecolor\":\"white\",\"minorgridcolor\":\"white\",\"startlinecolor\":\"rgb(36,36,36)\"},\"type\":\"carpet\"}],\"choropleth\":[{\"colorbar\":{\"outlinewidth\":1,\"tickcolor\":\"rgb(36,36,36)\",\"ticks\":\"outside\"},\"type\":\"choropleth\"}],\"contourcarpet\":[{\"colorbar\":{\"outlinewidth\":1,\"tickcolor\":\"rgb(36,36,36)\",\"ticks\":\"outside\"},\"type\":\"contourcarpet\"}],\"contour\":[{\"colorbar\":{\"outlinewidth\":1,\"tickcolor\":\"rgb(36,36,36)\",\"ticks\":\"outside\"},\"colorscale\":[[0.0,\"#440154\"],[0.1111111111111111,\"#482878\"],[0.2222222222222222,\"#3e4989\"],[0.3333333333333333,\"#31688e\"],[0.4444444444444444,\"#26828e\"],[0.5555555555555556,\"#1f9e89\"],[0.6666666666666666,\"#35b779\"],[0.7777777777777778,\"#6ece58\"],[0.8888888888888888,\"#b5de2b\"],[1.0,\"#fde725\"]],\"type\":\"contour\"}],\"heatmapgl\":[{\"colorbar\":{\"outlinewidth\":1,\"tickcolor\":\"rgb(36,36,36)\",\"ticks\":\"outside\"},\"colorscale\":[[0.0,\"#440154\"],[0.1111111111111111,\"#482878\"],[0.2222222222222222,\"#3e4989\"],[0.3333333333333333,\"#31688e\"],[0.4444444444444444,\"#26828e\"],[0.5555555555555556,\"#1f9e89\"],[0.6666666666666666,\"#35b779\"],[0.7777777777777778,\"#6ece58\"],[0.8888888888888888,\"#b5de2b\"],[1.0,\"#fde725\"]],\"type\":\"heatmapgl\"}],\"heatmap\":[{\"colorbar\":{\"outlinewidth\":1,\"tickcolor\":\"rgb(36,36,36)\",\"ticks\":\"outside\"},\"colorscale\":[[0.0,\"#440154\"],[0.1111111111111111,\"#482878\"],[0.2222222222222222,\"#3e4989\"],[0.3333333333333333,\"#31688e\"],[0.4444444444444444,\"#26828e\"],[0.5555555555555556,\"#1f9e89\"],[0.6666666666666666,\"#35b779\"],[0.7777777777777778,\"#6ece58\"],[0.8888888888888888,\"#b5de2b\"],[1.0,\"#fde725\"]],\"type\":\"heatmap\"}],\"histogram2dcontour\":[{\"colorbar\":{\"outlinewidth\":1,\"tickcolor\":\"rgb(36,36,36)\",\"ticks\":\"outside\"},\"colorscale\":[[0.0,\"#440154\"],[0.1111111111111111,\"#482878\"],[0.2222222222222222,\"#3e4989\"],[0.3333333333333333,\"#31688e\"],[0.4444444444444444,\"#26828e\"],[0.5555555555555556,\"#1f9e89\"],[0.6666666666666666,\"#35b779\"],[0.7777777777777778,\"#6ece58\"],[0.8888888888888888,\"#b5de2b\"],[1.0,\"#fde725\"]],\"type\":\"histogram2dcontour\"}],\"histogram2d\":[{\"colorbar\":{\"outlinewidth\":1,\"tickcolor\":\"rgb(36,36,36)\",\"ticks\":\"outside\"},\"colorscale\":[[0.0,\"#440154\"],[0.1111111111111111,\"#482878\"],[0.2222222222222222,\"#3e4989\"],[0.3333333333333333,\"#31688e\"],[0.4444444444444444,\"#26828e\"],[0.5555555555555556,\"#1f9e89\"],[0.6666666666666666,\"#35b779\"],[0.7777777777777778,\"#6ece58\"],[0.8888888888888888,\"#b5de2b\"],[1.0,\"#fde725\"]],\"type\":\"histogram2d\"}],\"histogram\":[{\"marker\":{\"line\":{\"color\":\"white\",\"width\":0.6}},\"type\":\"histogram\"}],\"mesh3d\":[{\"colorbar\":{\"outlinewidth\":1,\"tickcolor\":\"rgb(36,36,36)\",\"ticks\":\"outside\"},\"type\":\"mesh3d\"}],\"parcoords\":[{\"line\":{\"colorbar\":{\"outlinewidth\":1,\"tickcolor\":\"rgb(36,36,36)\",\"ticks\":\"outside\"}},\"type\":\"parcoords\"}],\"pie\":[{\"automargin\":true,\"type\":\"pie\"}],\"scatter3d\":[{\"line\":{\"colorbar\":{\"outlinewidth\":1,\"tickcolor\":\"rgb(36,36,36)\",\"ticks\":\"outside\"}},\"marker\":{\"colorbar\":{\"outlinewidth\":1,\"tickcolor\":\"rgb(36,36,36)\",\"ticks\":\"outside\"}},\"type\":\"scatter3d\"}],\"scattercarpet\":[{\"marker\":{\"colorbar\":{\"outlinewidth\":1,\"tickcolor\":\"rgb(36,36,36)\",\"ticks\":\"outside\"}},\"type\":\"scattercarpet\"}],\"scattergeo\":[{\"marker\":{\"colorbar\":{\"outlinewidth\":1,\"tickcolor\":\"rgb(36,36,36)\",\"ticks\":\"outside\"}},\"type\":\"scattergeo\"}],\"scattergl\":[{\"marker\":{\"colorbar\":{\"outlinewidth\":1,\"tickcolor\":\"rgb(36,36,36)\",\"ticks\":\"outside\"}},\"type\":\"scattergl\"}],\"scattermapbox\":[{\"marker\":{\"colorbar\":{\"outlinewidth\":1,\"tickcolor\":\"rgb(36,36,36)\",\"ticks\":\"outside\"}},\"type\":\"scattermapbox\"}],\"scatterpolargl\":[{\"marker\":{\"colorbar\":{\"outlinewidth\":1,\"tickcolor\":\"rgb(36,36,36)\",\"ticks\":\"outside\"}},\"type\":\"scatterpolargl\"}],\"scatterpolar\":[{\"marker\":{\"colorbar\":{\"outlinewidth\":1,\"tickcolor\":\"rgb(36,36,36)\",\"ticks\":\"outside\"}},\"type\":\"scatterpolar\"}],\"scatter\":[{\"marker\":{\"colorbar\":{\"outlinewidth\":1,\"tickcolor\":\"rgb(36,36,36)\",\"ticks\":\"outside\"}},\"type\":\"scatter\"}],\"scatterternary\":[{\"marker\":{\"colorbar\":{\"outlinewidth\":1,\"tickcolor\":\"rgb(36,36,36)\",\"ticks\":\"outside\"}},\"type\":\"scatterternary\"}],\"surface\":[{\"colorbar\":{\"outlinewidth\":1,\"tickcolor\":\"rgb(36,36,36)\",\"ticks\":\"outside\"},\"colorscale\":[[0.0,\"#440154\"],[0.1111111111111111,\"#482878\"],[0.2222222222222222,\"#3e4989\"],[0.3333333333333333,\"#31688e\"],[0.4444444444444444,\"#26828e\"],[0.5555555555555556,\"#1f9e89\"],[0.6666666666666666,\"#35b779\"],[0.7777777777777778,\"#6ece58\"],[0.8888888888888888,\"#b5de2b\"],[1.0,\"#fde725\"]],\"type\":\"surface\"}],\"table\":[{\"cells\":{\"fill\":{\"color\":\"rgb(237,237,237)\"},\"line\":{\"color\":\"white\"}},\"header\":{\"fill\":{\"color\":\"rgb(217,217,217)\"},\"line\":{\"color\":\"white\"}},\"type\":\"table\"}]},\"layout\":{\"annotationdefaults\":{\"arrowhead\":0,\"arrowwidth\":1},\"autotypenumbers\":\"strict\",\"coloraxis\":{\"colorbar\":{\"outlinewidth\":1,\"tickcolor\":\"rgb(36,36,36)\",\"ticks\":\"outside\"}},\"colorscale\":{\"diverging\":[[0.0,\"rgb(103,0,31)\"],[0.1,\"rgb(178,24,43)\"],[0.2,\"rgb(214,96,77)\"],[0.3,\"rgb(244,165,130)\"],[0.4,\"rgb(253,219,199)\"],[0.5,\"rgb(247,247,247)\"],[0.6,\"rgb(209,229,240)\"],[0.7,\"rgb(146,197,222)\"],[0.8,\"rgb(67,147,195)\"],[0.9,\"rgb(33,102,172)\"],[1.0,\"rgb(5,48,97)\"]],\"sequential\":[[0.0,\"#440154\"],[0.1111111111111111,\"#482878\"],[0.2222222222222222,\"#3e4989\"],[0.3333333333333333,\"#31688e\"],[0.4444444444444444,\"#26828e\"],[0.5555555555555556,\"#1f9e89\"],[0.6666666666666666,\"#35b779\"],[0.7777777777777778,\"#6ece58\"],[0.8888888888888888,\"#b5de2b\"],[1.0,\"#fde725\"]],\"sequentialminus\":[[0.0,\"#440154\"],[0.1111111111111111,\"#482878\"],[0.2222222222222222,\"#3e4989\"],[0.3333333333333333,\"#31688e\"],[0.4444444444444444,\"#26828e\"],[0.5555555555555556,\"#1f9e89\"],[0.6666666666666666,\"#35b779\"],[0.7777777777777778,\"#6ece58\"],[0.8888888888888888,\"#b5de2b\"],[1.0,\"#fde725\"]]},\"colorway\":[\"#1F77B4\",\"#FF7F0E\",\"#2CA02C\",\"#D62728\",\"#9467BD\",\"#8C564B\",\"#E377C2\",\"#7F7F7F\",\"#BCBD22\",\"#17BECF\"],\"font\":{\"color\":\"rgb(36,36,36)\"},\"geo\":{\"bgcolor\":\"white\",\"lakecolor\":\"white\",\"landcolor\":\"white\",\"showlakes\":true,\"showland\":true,\"subunitcolor\":\"white\"},\"hoverlabel\":{\"align\":\"left\"},\"hovermode\":\"closest\",\"mapbox\":{\"style\":\"light\"},\"paper_bgcolor\":\"white\",\"plot_bgcolor\":\"white\",\"polar\":{\"angularaxis\":{\"gridcolor\":\"rgb(232,232,232)\",\"linecolor\":\"rgb(36,36,36)\",\"showgrid\":false,\"showline\":true,\"ticks\":\"outside\"},\"bgcolor\":\"white\",\"radialaxis\":{\"gridcolor\":\"rgb(232,232,232)\",\"linecolor\":\"rgb(36,36,36)\",\"showgrid\":false,\"showline\":true,\"ticks\":\"outside\"}},\"scene\":{\"xaxis\":{\"backgroundcolor\":\"white\",\"gridcolor\":\"rgb(232,232,232)\",\"gridwidth\":2,\"linecolor\":\"rgb(36,36,36)\",\"showbackground\":true,\"showgrid\":false,\"showline\":true,\"ticks\":\"outside\",\"zeroline\":false,\"zerolinecolor\":\"rgb(36,36,36)\"},\"yaxis\":{\"backgroundcolor\":\"white\",\"gridcolor\":\"rgb(232,232,232)\",\"gridwidth\":2,\"linecolor\":\"rgb(36,36,36)\",\"showbackground\":true,\"showgrid\":false,\"showline\":true,\"ticks\":\"outside\",\"zeroline\":false,\"zerolinecolor\":\"rgb(36,36,36)\"},\"zaxis\":{\"backgroundcolor\":\"white\",\"gridcolor\":\"rgb(232,232,232)\",\"gridwidth\":2,\"linecolor\":\"rgb(36,36,36)\",\"showbackground\":true,\"showgrid\":false,\"showline\":true,\"ticks\":\"outside\",\"zeroline\":false,\"zerolinecolor\":\"rgb(36,36,36)\"}},\"shapedefaults\":{\"fillcolor\":\"black\",\"line\":{\"width\":0},\"opacity\":0.3},\"ternary\":{\"aaxis\":{\"gridcolor\":\"rgb(232,232,232)\",\"linecolor\":\"rgb(36,36,36)\",\"showgrid\":false,\"showline\":true,\"ticks\":\"outside\"},\"baxis\":{\"gridcolor\":\"rgb(232,232,232)\",\"linecolor\":\"rgb(36,36,36)\",\"showgrid\":false,\"showline\":true,\"ticks\":\"outside\"},\"bgcolor\":\"white\",\"caxis\":{\"gridcolor\":\"rgb(232,232,232)\",\"linecolor\":\"rgb(36,36,36)\",\"showgrid\":false,\"showline\":true,\"ticks\":\"outside\"}},\"title\":{\"x\":0.05},\"xaxis\":{\"automargin\":true,\"gridcolor\":\"rgb(232,232,232)\",\"linecolor\":\"rgb(36,36,36)\",\"showgrid\":false,\"showline\":true,\"ticks\":\"outside\",\"title\":{\"standoff\":15},\"zeroline\":false,\"zerolinecolor\":\"rgb(36,36,36)\"},\"yaxis\":{\"automargin\":true,\"gridcolor\":\"rgb(232,232,232)\",\"linecolor\":\"rgb(36,36,36)\",\"showgrid\":false,\"showline\":true,\"ticks\":\"outside\",\"title\":{\"standoff\":15},\"zeroline\":false,\"zerolinecolor\":\"rgb(36,36,36)\"}}},\"xaxis\":{\"anchor\":\"y\",\"domain\":[0.0,1.0],\"title\":{\"text\":\"Date\"}},\"yaxis\":{\"anchor\":\"x\",\"domain\":[0.0,1.0],\"title\":{\"text\":\"PointDiff\"}},\"legend\":{\"tracegroupgap\":0},\"title\":{\"text\":\"Point Differential\",\"x\":0.5},\"font\":{\"family\":\"Georgia\",\"size\":18,\"color\":\"Black\"}},                        {\"responsive\": true}                    ).then(function(){\n",
       "                            \n",
       "var gd = document.getElementById('4dca7fc8-17a1-4393-ace6-4e288f2cd37f');\n",
       "var x = new MutationObserver(function (mutations, observer) {{\n",
       "        var display = window.getComputedStyle(gd).display;\n",
       "        if (!display || display === 'none') {{\n",
       "            console.log([gd, 'removed!']);\n",
       "            Plotly.purge(gd);\n",
       "            observer.disconnect();\n",
       "        }}\n",
       "}});\n",
       "\n",
       "// Listen for the removal of the full notebook cells\n",
       "var notebookContainer = gd.closest('#notebook-container');\n",
       "if (notebookContainer) {{\n",
       "    x.observe(notebookContainer, {childList: true});\n",
       "}}\n",
       "\n",
       "// Listen for the clearing of the current output cell\n",
       "var outputEl = gd.closest('.output');\n",
       "if (outputEl) {{\n",
       "    x.observe(outputEl, {childList: true});\n",
       "}}\n",
       "\n",
       "                        })                };                });            </script>        </div>"
      ]
     },
     "metadata": {},
     "output_type": "display_data"
    }
   ],
   "source": [
    "lineplot(df, 'Date', 'PointDiff', 'Point Differential')"
   ]
  },
  {
   "cell_type": "markdown",
   "id": "656c907a",
   "metadata": {},
   "source": [
    "# Statistics for Dashboard\n",
    "\n",
    "Effective Field Goal Percentage\n",
    "\n",
    "3 Point Percentage\n",
    "\n",
    "Free Throw Percentage"
   ]
  },
  {
   "cell_type": "code",
   "execution_count": 16,
   "id": "3169211e",
   "metadata": {},
   "outputs": [
    {
     "name": "stdout",
     "output_type": "stream",
     "text": [
      "Expected Field Goal Percentage: 52.53%\n",
      "3PT Field Goal Percentage: 33.72%\n",
      "Free Throw Percentage: 79.06%\n"
     ]
    }
   ],
   "source": [
    "EFGP = df['EFG%'].mean()\n",
    "Perc_3 = df['3FG%'].mean()\n",
    "FTP = df['FT%'].mean()\n",
    "\n",
    "\n",
    "print('Expected Field Goal Percentage: ' + str(round(EFGP,2)) + '%')\n",
    "print('3PT Field Goal Percentage: ' + str(round(Perc_3,2))+ '%')\n",
    "print('Free Throw Percentage: ' + str(round(FTP,2))+ '%')\n"
   ]
  },
  {
   "cell_type": "code",
   "execution_count": 17,
   "id": "494a3d49",
   "metadata": {},
   "outputs": [
    {
     "data": {
      "application/vnd.plotly.v1+json": {
       "config": {
        "plotlyServerURL": "https://plot.ly"
       },
       "data": [
        {
         "domain": {
          "x": [
           0,
           1
          ],
          "y": [
           0,
           1
          ]
         },
         "hovertemplate": "label=%{label}<br>value=%{value}<extra></extra>",
         "labels": [
          "Home",
          "Away"
         ],
         "legendgroup": "",
         "name": "",
         "showlegend": true,
         "textinfo": "percent+label",
         "textposition": "inside",
         "type": "pie",
         "values": [
          7,
          6
         ]
        }
       ],
       "layout": {
        "font": {
         "family": "Georgia",
         "size": 18
        },
        "legend": {
         "tracegroupgap": 0
        },
        "showlegend": false,
        "template": {
         "data": {
          "bar": [
           {
            "error_x": {
             "color": "#2a3f5f"
            },
            "error_y": {
             "color": "#2a3f5f"
            },
            "marker": {
             "line": {
              "color": "#E5ECF6",
              "width": 0.5
             },
             "pattern": {
              "fillmode": "overlay",
              "size": 10,
              "solidity": 0.2
             }
            },
            "type": "bar"
           }
          ],
          "barpolar": [
           {
            "marker": {
             "line": {
              "color": "#E5ECF6",
              "width": 0.5
             },
             "pattern": {
              "fillmode": "overlay",
              "size": 10,
              "solidity": 0.2
             }
            },
            "type": "barpolar"
           }
          ],
          "carpet": [
           {
            "aaxis": {
             "endlinecolor": "#2a3f5f",
             "gridcolor": "white",
             "linecolor": "white",
             "minorgridcolor": "white",
             "startlinecolor": "#2a3f5f"
            },
            "baxis": {
             "endlinecolor": "#2a3f5f",
             "gridcolor": "white",
             "linecolor": "white",
             "minorgridcolor": "white",
             "startlinecolor": "#2a3f5f"
            },
            "type": "carpet"
           }
          ],
          "choropleth": [
           {
            "colorbar": {
             "outlinewidth": 0,
             "ticks": ""
            },
            "type": "choropleth"
           }
          ],
          "contour": [
           {
            "colorbar": {
             "outlinewidth": 0,
             "ticks": ""
            },
            "colorscale": [
             [
              0,
              "#0d0887"
             ],
             [
              0.1111111111111111,
              "#46039f"
             ],
             [
              0.2222222222222222,
              "#7201a8"
             ],
             [
              0.3333333333333333,
              "#9c179e"
             ],
             [
              0.4444444444444444,
              "#bd3786"
             ],
             [
              0.5555555555555556,
              "#d8576b"
             ],
             [
              0.6666666666666666,
              "#ed7953"
             ],
             [
              0.7777777777777778,
              "#fb9f3a"
             ],
             [
              0.8888888888888888,
              "#fdca26"
             ],
             [
              1,
              "#f0f921"
             ]
            ],
            "type": "contour"
           }
          ],
          "contourcarpet": [
           {
            "colorbar": {
             "outlinewidth": 0,
             "ticks": ""
            },
            "type": "contourcarpet"
           }
          ],
          "heatmap": [
           {
            "colorbar": {
             "outlinewidth": 0,
             "ticks": ""
            },
            "colorscale": [
             [
              0,
              "#0d0887"
             ],
             [
              0.1111111111111111,
              "#46039f"
             ],
             [
              0.2222222222222222,
              "#7201a8"
             ],
             [
              0.3333333333333333,
              "#9c179e"
             ],
             [
              0.4444444444444444,
              "#bd3786"
             ],
             [
              0.5555555555555556,
              "#d8576b"
             ],
             [
              0.6666666666666666,
              "#ed7953"
             ],
             [
              0.7777777777777778,
              "#fb9f3a"
             ],
             [
              0.8888888888888888,
              "#fdca26"
             ],
             [
              1,
              "#f0f921"
             ]
            ],
            "type": "heatmap"
           }
          ],
          "heatmapgl": [
           {
            "colorbar": {
             "outlinewidth": 0,
             "ticks": ""
            },
            "colorscale": [
             [
              0,
              "#0d0887"
             ],
             [
              0.1111111111111111,
              "#46039f"
             ],
             [
              0.2222222222222222,
              "#7201a8"
             ],
             [
              0.3333333333333333,
              "#9c179e"
             ],
             [
              0.4444444444444444,
              "#bd3786"
             ],
             [
              0.5555555555555556,
              "#d8576b"
             ],
             [
              0.6666666666666666,
              "#ed7953"
             ],
             [
              0.7777777777777778,
              "#fb9f3a"
             ],
             [
              0.8888888888888888,
              "#fdca26"
             ],
             [
              1,
              "#f0f921"
             ]
            ],
            "type": "heatmapgl"
           }
          ],
          "histogram": [
           {
            "marker": {
             "pattern": {
              "fillmode": "overlay",
              "size": 10,
              "solidity": 0.2
             }
            },
            "type": "histogram"
           }
          ],
          "histogram2d": [
           {
            "colorbar": {
             "outlinewidth": 0,
             "ticks": ""
            },
            "colorscale": [
             [
              0,
              "#0d0887"
             ],
             [
              0.1111111111111111,
              "#46039f"
             ],
             [
              0.2222222222222222,
              "#7201a8"
             ],
             [
              0.3333333333333333,
              "#9c179e"
             ],
             [
              0.4444444444444444,
              "#bd3786"
             ],
             [
              0.5555555555555556,
              "#d8576b"
             ],
             [
              0.6666666666666666,
              "#ed7953"
             ],
             [
              0.7777777777777778,
              "#fb9f3a"
             ],
             [
              0.8888888888888888,
              "#fdca26"
             ],
             [
              1,
              "#f0f921"
             ]
            ],
            "type": "histogram2d"
           }
          ],
          "histogram2dcontour": [
           {
            "colorbar": {
             "outlinewidth": 0,
             "ticks": ""
            },
            "colorscale": [
             [
              0,
              "#0d0887"
             ],
             [
              0.1111111111111111,
              "#46039f"
             ],
             [
              0.2222222222222222,
              "#7201a8"
             ],
             [
              0.3333333333333333,
              "#9c179e"
             ],
             [
              0.4444444444444444,
              "#bd3786"
             ],
             [
              0.5555555555555556,
              "#d8576b"
             ],
             [
              0.6666666666666666,
              "#ed7953"
             ],
             [
              0.7777777777777778,
              "#fb9f3a"
             ],
             [
              0.8888888888888888,
              "#fdca26"
             ],
             [
              1,
              "#f0f921"
             ]
            ],
            "type": "histogram2dcontour"
           }
          ],
          "mesh3d": [
           {
            "colorbar": {
             "outlinewidth": 0,
             "ticks": ""
            },
            "type": "mesh3d"
           }
          ],
          "parcoords": [
           {
            "line": {
             "colorbar": {
              "outlinewidth": 0,
              "ticks": ""
             }
            },
            "type": "parcoords"
           }
          ],
          "pie": [
           {
            "automargin": true,
            "type": "pie"
           }
          ],
          "scatter": [
           {
            "marker": {
             "colorbar": {
              "outlinewidth": 0,
              "ticks": ""
             }
            },
            "type": "scatter"
           }
          ],
          "scatter3d": [
           {
            "line": {
             "colorbar": {
              "outlinewidth": 0,
              "ticks": ""
             }
            },
            "marker": {
             "colorbar": {
              "outlinewidth": 0,
              "ticks": ""
             }
            },
            "type": "scatter3d"
           }
          ],
          "scattercarpet": [
           {
            "marker": {
             "colorbar": {
              "outlinewidth": 0,
              "ticks": ""
             }
            },
            "type": "scattercarpet"
           }
          ],
          "scattergeo": [
           {
            "marker": {
             "colorbar": {
              "outlinewidth": 0,
              "ticks": ""
             }
            },
            "type": "scattergeo"
           }
          ],
          "scattergl": [
           {
            "marker": {
             "colorbar": {
              "outlinewidth": 0,
              "ticks": ""
             }
            },
            "type": "scattergl"
           }
          ],
          "scattermapbox": [
           {
            "marker": {
             "colorbar": {
              "outlinewidth": 0,
              "ticks": ""
             }
            },
            "type": "scattermapbox"
           }
          ],
          "scatterpolar": [
           {
            "marker": {
             "colorbar": {
              "outlinewidth": 0,
              "ticks": ""
             }
            },
            "type": "scatterpolar"
           }
          ],
          "scatterpolargl": [
           {
            "marker": {
             "colorbar": {
              "outlinewidth": 0,
              "ticks": ""
             }
            },
            "type": "scatterpolargl"
           }
          ],
          "scatterternary": [
           {
            "marker": {
             "colorbar": {
              "outlinewidth": 0,
              "ticks": ""
             }
            },
            "type": "scatterternary"
           }
          ],
          "surface": [
           {
            "colorbar": {
             "outlinewidth": 0,
             "ticks": ""
            },
            "colorscale": [
             [
              0,
              "#0d0887"
             ],
             [
              0.1111111111111111,
              "#46039f"
             ],
             [
              0.2222222222222222,
              "#7201a8"
             ],
             [
              0.3333333333333333,
              "#9c179e"
             ],
             [
              0.4444444444444444,
              "#bd3786"
             ],
             [
              0.5555555555555556,
              "#d8576b"
             ],
             [
              0.6666666666666666,
              "#ed7953"
             ],
             [
              0.7777777777777778,
              "#fb9f3a"
             ],
             [
              0.8888888888888888,
              "#fdca26"
             ],
             [
              1,
              "#f0f921"
             ]
            ],
            "type": "surface"
           }
          ],
          "table": [
           {
            "cells": {
             "fill": {
              "color": "#EBF0F8"
             },
             "line": {
              "color": "white"
             }
            },
            "header": {
             "fill": {
              "color": "#C8D4E3"
             },
             "line": {
              "color": "white"
             }
            },
            "type": "table"
           }
          ]
         },
         "layout": {
          "annotationdefaults": {
           "arrowcolor": "#2a3f5f",
           "arrowhead": 0,
           "arrowwidth": 1
          },
          "autotypenumbers": "strict",
          "coloraxis": {
           "colorbar": {
            "outlinewidth": 0,
            "ticks": ""
           }
          },
          "colorscale": {
           "diverging": [
            [
             0,
             "#8e0152"
            ],
            [
             0.1,
             "#c51b7d"
            ],
            [
             0.2,
             "#de77ae"
            ],
            [
             0.3,
             "#f1b6da"
            ],
            [
             0.4,
             "#fde0ef"
            ],
            [
             0.5,
             "#f7f7f7"
            ],
            [
             0.6,
             "#e6f5d0"
            ],
            [
             0.7,
             "#b8e186"
            ],
            [
             0.8,
             "#7fbc41"
            ],
            [
             0.9,
             "#4d9221"
            ],
            [
             1,
             "#276419"
            ]
           ],
           "sequential": [
            [
             0,
             "#0d0887"
            ],
            [
             0.1111111111111111,
             "#46039f"
            ],
            [
             0.2222222222222222,
             "#7201a8"
            ],
            [
             0.3333333333333333,
             "#9c179e"
            ],
            [
             0.4444444444444444,
             "#bd3786"
            ],
            [
             0.5555555555555556,
             "#d8576b"
            ],
            [
             0.6666666666666666,
             "#ed7953"
            ],
            [
             0.7777777777777778,
             "#fb9f3a"
            ],
            [
             0.8888888888888888,
             "#fdca26"
            ],
            [
             1,
             "#f0f921"
            ]
           ],
           "sequentialminus": [
            [
             0,
             "#0d0887"
            ],
            [
             0.1111111111111111,
             "#46039f"
            ],
            [
             0.2222222222222222,
             "#7201a8"
            ],
            [
             0.3333333333333333,
             "#9c179e"
            ],
            [
             0.4444444444444444,
             "#bd3786"
            ],
            [
             0.5555555555555556,
             "#d8576b"
            ],
            [
             0.6666666666666666,
             "#ed7953"
            ],
            [
             0.7777777777777778,
             "#fb9f3a"
            ],
            [
             0.8888888888888888,
             "#fdca26"
            ],
            [
             1,
             "#f0f921"
            ]
           ]
          },
          "colorway": [
           "#636efa",
           "#EF553B",
           "#00cc96",
           "#ab63fa",
           "#FFA15A",
           "#19d3f3",
           "#FF6692",
           "#B6E880",
           "#FF97FF",
           "#FECB52"
          ],
          "font": {
           "color": "#2a3f5f"
          },
          "geo": {
           "bgcolor": "white",
           "lakecolor": "white",
           "landcolor": "#E5ECF6",
           "showlakes": true,
           "showland": true,
           "subunitcolor": "white"
          },
          "hoverlabel": {
           "align": "left"
          },
          "hovermode": "closest",
          "mapbox": {
           "style": "light"
          },
          "paper_bgcolor": "white",
          "plot_bgcolor": "#E5ECF6",
          "polar": {
           "angularaxis": {
            "gridcolor": "white",
            "linecolor": "white",
            "ticks": ""
           },
           "bgcolor": "#E5ECF6",
           "radialaxis": {
            "gridcolor": "white",
            "linecolor": "white",
            "ticks": ""
           }
          },
          "scene": {
           "xaxis": {
            "backgroundcolor": "#E5ECF6",
            "gridcolor": "white",
            "gridwidth": 2,
            "linecolor": "white",
            "showbackground": true,
            "ticks": "",
            "zerolinecolor": "white"
           },
           "yaxis": {
            "backgroundcolor": "#E5ECF6",
            "gridcolor": "white",
            "gridwidth": 2,
            "linecolor": "white",
            "showbackground": true,
            "ticks": "",
            "zerolinecolor": "white"
           },
           "zaxis": {
            "backgroundcolor": "#E5ECF6",
            "gridcolor": "white",
            "gridwidth": 2,
            "linecolor": "white",
            "showbackground": true,
            "ticks": "",
            "zerolinecolor": "white"
           }
          },
          "shapedefaults": {
           "line": {
            "color": "#2a3f5f"
           }
          },
          "ternary": {
           "aaxis": {
            "gridcolor": "white",
            "linecolor": "white",
            "ticks": ""
           },
           "baxis": {
            "gridcolor": "white",
            "linecolor": "white",
            "ticks": ""
           },
           "bgcolor": "#E5ECF6",
           "caxis": {
            "gridcolor": "white",
            "linecolor": "white",
            "ticks": ""
           }
          },
          "title": {
           "x": 0.05
          },
          "xaxis": {
           "automargin": true,
           "gridcolor": "white",
           "linecolor": "white",
           "ticks": "",
           "title": {
            "standoff": 15
           },
           "zerolinecolor": "white",
           "zerolinewidth": 2
          },
          "yaxis": {
           "automargin": true,
           "gridcolor": "white",
           "linecolor": "white",
           "ticks": "",
           "title": {
            "standoff": 15
           },
           "zerolinecolor": "white",
           "zerolinewidth": 2
          }
         }
        },
        "title": {
         "text": "Proportion of Home Games",
         "x": 0.5
        }
       }
      },
      "text/html": [
       "<div>                            <div id=\"33619643-9e15-4788-a907-89961171216b\" class=\"plotly-graph-div\" style=\"height:525px; width:100%;\"></div>            <script type=\"text/javascript\">                require([\"plotly\"], function(Plotly) {                    window.PLOTLYENV=window.PLOTLYENV || {};                                    if (document.getElementById(\"33619643-9e15-4788-a907-89961171216b\")) {                    Plotly.newPlot(                        \"33619643-9e15-4788-a907-89961171216b\",                        [{\"domain\":{\"x\":[0.0,1.0],\"y\":[0.0,1.0]},\"hovertemplate\":\"label=%{label}<br>value=%{value}<extra></extra>\",\"labels\":[\"Home\",\"Away\"],\"legendgroup\":\"\",\"name\":\"\",\"showlegend\":true,\"values\":[7,6],\"type\":\"pie\",\"textinfo\":\"percent+label\",\"textposition\":\"inside\"}],                        {\"template\":{\"data\":{\"bar\":[{\"error_x\":{\"color\":\"#2a3f5f\"},\"error_y\":{\"color\":\"#2a3f5f\"},\"marker\":{\"line\":{\"color\":\"#E5ECF6\",\"width\":0.5},\"pattern\":{\"fillmode\":\"overlay\",\"size\":10,\"solidity\":0.2}},\"type\":\"bar\"}],\"barpolar\":[{\"marker\":{\"line\":{\"color\":\"#E5ECF6\",\"width\":0.5},\"pattern\":{\"fillmode\":\"overlay\",\"size\":10,\"solidity\":0.2}},\"type\":\"barpolar\"}],\"carpet\":[{\"aaxis\":{\"endlinecolor\":\"#2a3f5f\",\"gridcolor\":\"white\",\"linecolor\":\"white\",\"minorgridcolor\":\"white\",\"startlinecolor\":\"#2a3f5f\"},\"baxis\":{\"endlinecolor\":\"#2a3f5f\",\"gridcolor\":\"white\",\"linecolor\":\"white\",\"minorgridcolor\":\"white\",\"startlinecolor\":\"#2a3f5f\"},\"type\":\"carpet\"}],\"choropleth\":[{\"colorbar\":{\"outlinewidth\":0,\"ticks\":\"\"},\"type\":\"choropleth\"}],\"contour\":[{\"colorbar\":{\"outlinewidth\":0,\"ticks\":\"\"},\"colorscale\":[[0.0,\"#0d0887\"],[0.1111111111111111,\"#46039f\"],[0.2222222222222222,\"#7201a8\"],[0.3333333333333333,\"#9c179e\"],[0.4444444444444444,\"#bd3786\"],[0.5555555555555556,\"#d8576b\"],[0.6666666666666666,\"#ed7953\"],[0.7777777777777778,\"#fb9f3a\"],[0.8888888888888888,\"#fdca26\"],[1.0,\"#f0f921\"]],\"type\":\"contour\"}],\"contourcarpet\":[{\"colorbar\":{\"outlinewidth\":0,\"ticks\":\"\"},\"type\":\"contourcarpet\"}],\"heatmap\":[{\"colorbar\":{\"outlinewidth\":0,\"ticks\":\"\"},\"colorscale\":[[0.0,\"#0d0887\"],[0.1111111111111111,\"#46039f\"],[0.2222222222222222,\"#7201a8\"],[0.3333333333333333,\"#9c179e\"],[0.4444444444444444,\"#bd3786\"],[0.5555555555555556,\"#d8576b\"],[0.6666666666666666,\"#ed7953\"],[0.7777777777777778,\"#fb9f3a\"],[0.8888888888888888,\"#fdca26\"],[1.0,\"#f0f921\"]],\"type\":\"heatmap\"}],\"heatmapgl\":[{\"colorbar\":{\"outlinewidth\":0,\"ticks\":\"\"},\"colorscale\":[[0.0,\"#0d0887\"],[0.1111111111111111,\"#46039f\"],[0.2222222222222222,\"#7201a8\"],[0.3333333333333333,\"#9c179e\"],[0.4444444444444444,\"#bd3786\"],[0.5555555555555556,\"#d8576b\"],[0.6666666666666666,\"#ed7953\"],[0.7777777777777778,\"#fb9f3a\"],[0.8888888888888888,\"#fdca26\"],[1.0,\"#f0f921\"]],\"type\":\"heatmapgl\"}],\"histogram\":[{\"marker\":{\"pattern\":{\"fillmode\":\"overlay\",\"size\":10,\"solidity\":0.2}},\"type\":\"histogram\"}],\"histogram2d\":[{\"colorbar\":{\"outlinewidth\":0,\"ticks\":\"\"},\"colorscale\":[[0.0,\"#0d0887\"],[0.1111111111111111,\"#46039f\"],[0.2222222222222222,\"#7201a8\"],[0.3333333333333333,\"#9c179e\"],[0.4444444444444444,\"#bd3786\"],[0.5555555555555556,\"#d8576b\"],[0.6666666666666666,\"#ed7953\"],[0.7777777777777778,\"#fb9f3a\"],[0.8888888888888888,\"#fdca26\"],[1.0,\"#f0f921\"]],\"type\":\"histogram2d\"}],\"histogram2dcontour\":[{\"colorbar\":{\"outlinewidth\":0,\"ticks\":\"\"},\"colorscale\":[[0.0,\"#0d0887\"],[0.1111111111111111,\"#46039f\"],[0.2222222222222222,\"#7201a8\"],[0.3333333333333333,\"#9c179e\"],[0.4444444444444444,\"#bd3786\"],[0.5555555555555556,\"#d8576b\"],[0.6666666666666666,\"#ed7953\"],[0.7777777777777778,\"#fb9f3a\"],[0.8888888888888888,\"#fdca26\"],[1.0,\"#f0f921\"]],\"type\":\"histogram2dcontour\"}],\"mesh3d\":[{\"colorbar\":{\"outlinewidth\":0,\"ticks\":\"\"},\"type\":\"mesh3d\"}],\"parcoords\":[{\"line\":{\"colorbar\":{\"outlinewidth\":0,\"ticks\":\"\"}},\"type\":\"parcoords\"}],\"pie\":[{\"automargin\":true,\"type\":\"pie\"}],\"scatter\":[{\"marker\":{\"colorbar\":{\"outlinewidth\":0,\"ticks\":\"\"}},\"type\":\"scatter\"}],\"scatter3d\":[{\"line\":{\"colorbar\":{\"outlinewidth\":0,\"ticks\":\"\"}},\"marker\":{\"colorbar\":{\"outlinewidth\":0,\"ticks\":\"\"}},\"type\":\"scatter3d\"}],\"scattercarpet\":[{\"marker\":{\"colorbar\":{\"outlinewidth\":0,\"ticks\":\"\"}},\"type\":\"scattercarpet\"}],\"scattergeo\":[{\"marker\":{\"colorbar\":{\"outlinewidth\":0,\"ticks\":\"\"}},\"type\":\"scattergeo\"}],\"scattergl\":[{\"marker\":{\"colorbar\":{\"outlinewidth\":0,\"ticks\":\"\"}},\"type\":\"scattergl\"}],\"scattermapbox\":[{\"marker\":{\"colorbar\":{\"outlinewidth\":0,\"ticks\":\"\"}},\"type\":\"scattermapbox\"}],\"scatterpolar\":[{\"marker\":{\"colorbar\":{\"outlinewidth\":0,\"ticks\":\"\"}},\"type\":\"scatterpolar\"}],\"scatterpolargl\":[{\"marker\":{\"colorbar\":{\"outlinewidth\":0,\"ticks\":\"\"}},\"type\":\"scatterpolargl\"}],\"scatterternary\":[{\"marker\":{\"colorbar\":{\"outlinewidth\":0,\"ticks\":\"\"}},\"type\":\"scatterternary\"}],\"surface\":[{\"colorbar\":{\"outlinewidth\":0,\"ticks\":\"\"},\"colorscale\":[[0.0,\"#0d0887\"],[0.1111111111111111,\"#46039f\"],[0.2222222222222222,\"#7201a8\"],[0.3333333333333333,\"#9c179e\"],[0.4444444444444444,\"#bd3786\"],[0.5555555555555556,\"#d8576b\"],[0.6666666666666666,\"#ed7953\"],[0.7777777777777778,\"#fb9f3a\"],[0.8888888888888888,\"#fdca26\"],[1.0,\"#f0f921\"]],\"type\":\"surface\"}],\"table\":[{\"cells\":{\"fill\":{\"color\":\"#EBF0F8\"},\"line\":{\"color\":\"white\"}},\"header\":{\"fill\":{\"color\":\"#C8D4E3\"},\"line\":{\"color\":\"white\"}},\"type\":\"table\"}]},\"layout\":{\"annotationdefaults\":{\"arrowcolor\":\"#2a3f5f\",\"arrowhead\":0,\"arrowwidth\":1},\"autotypenumbers\":\"strict\",\"coloraxis\":{\"colorbar\":{\"outlinewidth\":0,\"ticks\":\"\"}},\"colorscale\":{\"diverging\":[[0,\"#8e0152\"],[0.1,\"#c51b7d\"],[0.2,\"#de77ae\"],[0.3,\"#f1b6da\"],[0.4,\"#fde0ef\"],[0.5,\"#f7f7f7\"],[0.6,\"#e6f5d0\"],[0.7,\"#b8e186\"],[0.8,\"#7fbc41\"],[0.9,\"#4d9221\"],[1,\"#276419\"]],\"sequential\":[[0.0,\"#0d0887\"],[0.1111111111111111,\"#46039f\"],[0.2222222222222222,\"#7201a8\"],[0.3333333333333333,\"#9c179e\"],[0.4444444444444444,\"#bd3786\"],[0.5555555555555556,\"#d8576b\"],[0.6666666666666666,\"#ed7953\"],[0.7777777777777778,\"#fb9f3a\"],[0.8888888888888888,\"#fdca26\"],[1.0,\"#f0f921\"]],\"sequentialminus\":[[0.0,\"#0d0887\"],[0.1111111111111111,\"#46039f\"],[0.2222222222222222,\"#7201a8\"],[0.3333333333333333,\"#9c179e\"],[0.4444444444444444,\"#bd3786\"],[0.5555555555555556,\"#d8576b\"],[0.6666666666666666,\"#ed7953\"],[0.7777777777777778,\"#fb9f3a\"],[0.8888888888888888,\"#fdca26\"],[1.0,\"#f0f921\"]]},\"colorway\":[\"#636efa\",\"#EF553B\",\"#00cc96\",\"#ab63fa\",\"#FFA15A\",\"#19d3f3\",\"#FF6692\",\"#B6E880\",\"#FF97FF\",\"#FECB52\"],\"font\":{\"color\":\"#2a3f5f\"},\"geo\":{\"bgcolor\":\"white\",\"lakecolor\":\"white\",\"landcolor\":\"#E5ECF6\",\"showlakes\":true,\"showland\":true,\"subunitcolor\":\"white\"},\"hoverlabel\":{\"align\":\"left\"},\"hovermode\":\"closest\",\"mapbox\":{\"style\":\"light\"},\"paper_bgcolor\":\"white\",\"plot_bgcolor\":\"#E5ECF6\",\"polar\":{\"angularaxis\":{\"gridcolor\":\"white\",\"linecolor\":\"white\",\"ticks\":\"\"},\"bgcolor\":\"#E5ECF6\",\"radialaxis\":{\"gridcolor\":\"white\",\"linecolor\":\"white\",\"ticks\":\"\"}},\"scene\":{\"xaxis\":{\"backgroundcolor\":\"#E5ECF6\",\"gridcolor\":\"white\",\"gridwidth\":2,\"linecolor\":\"white\",\"showbackground\":true,\"ticks\":\"\",\"zerolinecolor\":\"white\"},\"yaxis\":{\"backgroundcolor\":\"#E5ECF6\",\"gridcolor\":\"white\",\"gridwidth\":2,\"linecolor\":\"white\",\"showbackground\":true,\"ticks\":\"\",\"zerolinecolor\":\"white\"},\"zaxis\":{\"backgroundcolor\":\"#E5ECF6\",\"gridcolor\":\"white\",\"gridwidth\":2,\"linecolor\":\"white\",\"showbackground\":true,\"ticks\":\"\",\"zerolinecolor\":\"white\"}},\"shapedefaults\":{\"line\":{\"color\":\"#2a3f5f\"}},\"ternary\":{\"aaxis\":{\"gridcolor\":\"white\",\"linecolor\":\"white\",\"ticks\":\"\"},\"baxis\":{\"gridcolor\":\"white\",\"linecolor\":\"white\",\"ticks\":\"\"},\"bgcolor\":\"#E5ECF6\",\"caxis\":{\"gridcolor\":\"white\",\"linecolor\":\"white\",\"ticks\":\"\"}},\"title\":{\"x\":0.05},\"xaxis\":{\"automargin\":true,\"gridcolor\":\"white\",\"linecolor\":\"white\",\"ticks\":\"\",\"title\":{\"standoff\":15},\"zerolinecolor\":\"white\",\"zerolinewidth\":2},\"yaxis\":{\"automargin\":true,\"gridcolor\":\"white\",\"linecolor\":\"white\",\"ticks\":\"\",\"title\":{\"standoff\":15},\"zerolinecolor\":\"white\",\"zerolinewidth\":2}}},\"legend\":{\"tracegroupgap\":0},\"title\":{\"text\":\"Proportion of Home Games\",\"x\":0.5},\"font\":{\"family\":\"Georgia\",\"size\":18},\"showlegend\":false},                        {\"responsive\": true}                    ).then(function(){\n",
       "                            \n",
       "var gd = document.getElementById('33619643-9e15-4788-a907-89961171216b');\n",
       "var x = new MutationObserver(function (mutations, observer) {{\n",
       "        var display = window.getComputedStyle(gd).display;\n",
       "        if (!display || display === 'none') {{\n",
       "            console.log([gd, 'removed!']);\n",
       "            Plotly.purge(gd);\n",
       "            observer.disconnect();\n",
       "        }}\n",
       "}});\n",
       "\n",
       "// Listen for the removal of the full notebook cells\n",
       "var notebookContainer = gd.closest('#notebook-container');\n",
       "if (notebookContainer) {{\n",
       "    x.observe(notebookContainer, {childList: true});\n",
       "}}\n",
       "\n",
       "// Listen for the clearing of the current output cell\n",
       "var outputEl = gd.closest('.output');\n",
       "if (outputEl) {{\n",
       "    x.observe(outputEl, {childList: true});\n",
       "}}\n",
       "\n",
       "                        })                };                });            </script>        </div>"
      ]
     },
     "metadata": {},
     "output_type": "display_data"
    }
   ],
   "source": [
    "# Proportion of Home Games Pie Chart\n",
    "\n",
    "# Count of home games\n",
    "count_home = len(df[df['H/A'] == 'Home'])\n",
    "# Count List of away games\n",
    "count_away = len(df[df['H/A'] == 'Away'])\n",
    "# To a List\n",
    "value = [count_home, count_away]\n",
    "name = ['Home', 'Away']\n",
    "\n",
    "\n",
    "# Pie Chart\n",
    "fig = px.pie(df,values = value,names = name, title='Proportion of Home Games')\n",
    "fig.update_layout(font_family = 'Georgia', title_x = 0.5, font = dict(size = 18))\n",
    "fig.update_traces(textposition='inside', textinfo='percent+label')\n",
    "fig.update_layout(showlegend=False)\n",
    "\n",
    "\n",
    "\n",
    "fig.show()"
   ]
  },
  {
   "cell_type": "code",
   "execution_count": 18,
   "id": "38b01bb0",
   "metadata": {},
   "outputs": [
    {
     "data": {
      "application/vnd.plotly.v1+json": {
       "config": {
        "plotlyServerURL": "https://plot.ly"
       },
       "data": [
        {
         "hovertemplate": "Date=%{x}<br>EFG%=%{y}<extra></extra>",
         "legendgroup": "",
         "line": {
          "color": "#636efa",
          "dash": "solid"
         },
         "marker": {
          "symbol": "circle"
         },
         "mode": "lines",
         "name": "",
         "orientation": "v",
         "showlegend": false,
         "type": "scatter",
         "x": [
          " 10/20",
          " 10/22",
          " 10/25",
          " 10/27",
          " 10/28",
          " 10/30",
          " 11/01",
          " 11/03",
          " 11/05",
          " 11/07",
          " 11/10",
          " 11/13",
          " 11/15"
         ],
         "xaxis": "x",
         "y": [
          47.53,
          62.23,
          39.47,
          56.55,
          53.03,
          41.35,
          55.23,
          48.72,
          64.29,
          57.41,
          47.62,
          57.14,
          52.38
         ],
         "yaxis": "y"
        }
       ],
       "layout": {
        "font": {
         "family": "Georgia",
         "size": 18
        },
        "legend": {
         "tracegroupgap": 0
        },
        "template": {
         "data": {
          "bar": [
           {
            "error_x": {
             "color": "#2a3f5f"
            },
            "error_y": {
             "color": "#2a3f5f"
            },
            "marker": {
             "line": {
              "color": "white",
              "width": 0.5
             },
             "pattern": {
              "fillmode": "overlay",
              "size": 10,
              "solidity": 0.2
             }
            },
            "type": "bar"
           }
          ],
          "barpolar": [
           {
            "marker": {
             "line": {
              "color": "white",
              "width": 0.5
             },
             "pattern": {
              "fillmode": "overlay",
              "size": 10,
              "solidity": 0.2
             }
            },
            "type": "barpolar"
           }
          ],
          "carpet": [
           {
            "aaxis": {
             "endlinecolor": "#2a3f5f",
             "gridcolor": "#C8D4E3",
             "linecolor": "#C8D4E3",
             "minorgridcolor": "#C8D4E3",
             "startlinecolor": "#2a3f5f"
            },
            "baxis": {
             "endlinecolor": "#2a3f5f",
             "gridcolor": "#C8D4E3",
             "linecolor": "#C8D4E3",
             "minorgridcolor": "#C8D4E3",
             "startlinecolor": "#2a3f5f"
            },
            "type": "carpet"
           }
          ],
          "choropleth": [
           {
            "colorbar": {
             "outlinewidth": 0,
             "ticks": ""
            },
            "type": "choropleth"
           }
          ],
          "contour": [
           {
            "colorbar": {
             "outlinewidth": 0,
             "ticks": ""
            },
            "colorscale": [
             [
              0,
              "#0d0887"
             ],
             [
              0.1111111111111111,
              "#46039f"
             ],
             [
              0.2222222222222222,
              "#7201a8"
             ],
             [
              0.3333333333333333,
              "#9c179e"
             ],
             [
              0.4444444444444444,
              "#bd3786"
             ],
             [
              0.5555555555555556,
              "#d8576b"
             ],
             [
              0.6666666666666666,
              "#ed7953"
             ],
             [
              0.7777777777777778,
              "#fb9f3a"
             ],
             [
              0.8888888888888888,
              "#fdca26"
             ],
             [
              1,
              "#f0f921"
             ]
            ],
            "type": "contour"
           }
          ],
          "contourcarpet": [
           {
            "colorbar": {
             "outlinewidth": 0,
             "ticks": ""
            },
            "type": "contourcarpet"
           }
          ],
          "heatmap": [
           {
            "colorbar": {
             "outlinewidth": 0,
             "ticks": ""
            },
            "colorscale": [
             [
              0,
              "#0d0887"
             ],
             [
              0.1111111111111111,
              "#46039f"
             ],
             [
              0.2222222222222222,
              "#7201a8"
             ],
             [
              0.3333333333333333,
              "#9c179e"
             ],
             [
              0.4444444444444444,
              "#bd3786"
             ],
             [
              0.5555555555555556,
              "#d8576b"
             ],
             [
              0.6666666666666666,
              "#ed7953"
             ],
             [
              0.7777777777777778,
              "#fb9f3a"
             ],
             [
              0.8888888888888888,
              "#fdca26"
             ],
             [
              1,
              "#f0f921"
             ]
            ],
            "type": "heatmap"
           }
          ],
          "heatmapgl": [
           {
            "colorbar": {
             "outlinewidth": 0,
             "ticks": ""
            },
            "colorscale": [
             [
              0,
              "#0d0887"
             ],
             [
              0.1111111111111111,
              "#46039f"
             ],
             [
              0.2222222222222222,
              "#7201a8"
             ],
             [
              0.3333333333333333,
              "#9c179e"
             ],
             [
              0.4444444444444444,
              "#bd3786"
             ],
             [
              0.5555555555555556,
              "#d8576b"
             ],
             [
              0.6666666666666666,
              "#ed7953"
             ],
             [
              0.7777777777777778,
              "#fb9f3a"
             ],
             [
              0.8888888888888888,
              "#fdca26"
             ],
             [
              1,
              "#f0f921"
             ]
            ],
            "type": "heatmapgl"
           }
          ],
          "histogram": [
           {
            "marker": {
             "pattern": {
              "fillmode": "overlay",
              "size": 10,
              "solidity": 0.2
             }
            },
            "type": "histogram"
           }
          ],
          "histogram2d": [
           {
            "colorbar": {
             "outlinewidth": 0,
             "ticks": ""
            },
            "colorscale": [
             [
              0,
              "#0d0887"
             ],
             [
              0.1111111111111111,
              "#46039f"
             ],
             [
              0.2222222222222222,
              "#7201a8"
             ],
             [
              0.3333333333333333,
              "#9c179e"
             ],
             [
              0.4444444444444444,
              "#bd3786"
             ],
             [
              0.5555555555555556,
              "#d8576b"
             ],
             [
              0.6666666666666666,
              "#ed7953"
             ],
             [
              0.7777777777777778,
              "#fb9f3a"
             ],
             [
              0.8888888888888888,
              "#fdca26"
             ],
             [
              1,
              "#f0f921"
             ]
            ],
            "type": "histogram2d"
           }
          ],
          "histogram2dcontour": [
           {
            "colorbar": {
             "outlinewidth": 0,
             "ticks": ""
            },
            "colorscale": [
             [
              0,
              "#0d0887"
             ],
             [
              0.1111111111111111,
              "#46039f"
             ],
             [
              0.2222222222222222,
              "#7201a8"
             ],
             [
              0.3333333333333333,
              "#9c179e"
             ],
             [
              0.4444444444444444,
              "#bd3786"
             ],
             [
              0.5555555555555556,
              "#d8576b"
             ],
             [
              0.6666666666666666,
              "#ed7953"
             ],
             [
              0.7777777777777778,
              "#fb9f3a"
             ],
             [
              0.8888888888888888,
              "#fdca26"
             ],
             [
              1,
              "#f0f921"
             ]
            ],
            "type": "histogram2dcontour"
           }
          ],
          "mesh3d": [
           {
            "colorbar": {
             "outlinewidth": 0,
             "ticks": ""
            },
            "type": "mesh3d"
           }
          ],
          "parcoords": [
           {
            "line": {
             "colorbar": {
              "outlinewidth": 0,
              "ticks": ""
             }
            },
            "type": "parcoords"
           }
          ],
          "pie": [
           {
            "automargin": true,
            "type": "pie"
           }
          ],
          "scatter": [
           {
            "marker": {
             "colorbar": {
              "outlinewidth": 0,
              "ticks": ""
             }
            },
            "type": "scatter"
           }
          ],
          "scatter3d": [
           {
            "line": {
             "colorbar": {
              "outlinewidth": 0,
              "ticks": ""
             }
            },
            "marker": {
             "colorbar": {
              "outlinewidth": 0,
              "ticks": ""
             }
            },
            "type": "scatter3d"
           }
          ],
          "scattercarpet": [
           {
            "marker": {
             "colorbar": {
              "outlinewidth": 0,
              "ticks": ""
             }
            },
            "type": "scattercarpet"
           }
          ],
          "scattergeo": [
           {
            "marker": {
             "colorbar": {
              "outlinewidth": 0,
              "ticks": ""
             }
            },
            "type": "scattergeo"
           }
          ],
          "scattergl": [
           {
            "marker": {
             "colorbar": {
              "outlinewidth": 0,
              "ticks": ""
             }
            },
            "type": "scattergl"
           }
          ],
          "scattermapbox": [
           {
            "marker": {
             "colorbar": {
              "outlinewidth": 0,
              "ticks": ""
             }
            },
            "type": "scattermapbox"
           }
          ],
          "scatterpolar": [
           {
            "marker": {
             "colorbar": {
              "outlinewidth": 0,
              "ticks": ""
             }
            },
            "type": "scatterpolar"
           }
          ],
          "scatterpolargl": [
           {
            "marker": {
             "colorbar": {
              "outlinewidth": 0,
              "ticks": ""
             }
            },
            "type": "scatterpolargl"
           }
          ],
          "scatterternary": [
           {
            "marker": {
             "colorbar": {
              "outlinewidth": 0,
              "ticks": ""
             }
            },
            "type": "scatterternary"
           }
          ],
          "surface": [
           {
            "colorbar": {
             "outlinewidth": 0,
             "ticks": ""
            },
            "colorscale": [
             [
              0,
              "#0d0887"
             ],
             [
              0.1111111111111111,
              "#46039f"
             ],
             [
              0.2222222222222222,
              "#7201a8"
             ],
             [
              0.3333333333333333,
              "#9c179e"
             ],
             [
              0.4444444444444444,
              "#bd3786"
             ],
             [
              0.5555555555555556,
              "#d8576b"
             ],
             [
              0.6666666666666666,
              "#ed7953"
             ],
             [
              0.7777777777777778,
              "#fb9f3a"
             ],
             [
              0.8888888888888888,
              "#fdca26"
             ],
             [
              1,
              "#f0f921"
             ]
            ],
            "type": "surface"
           }
          ],
          "table": [
           {
            "cells": {
             "fill": {
              "color": "#EBF0F8"
             },
             "line": {
              "color": "white"
             }
            },
            "header": {
             "fill": {
              "color": "#C8D4E3"
             },
             "line": {
              "color": "white"
             }
            },
            "type": "table"
           }
          ]
         },
         "layout": {
          "annotationdefaults": {
           "arrowcolor": "#2a3f5f",
           "arrowhead": 0,
           "arrowwidth": 1
          },
          "autotypenumbers": "strict",
          "coloraxis": {
           "colorbar": {
            "outlinewidth": 0,
            "ticks": ""
           }
          },
          "colorscale": {
           "diverging": [
            [
             0,
             "#8e0152"
            ],
            [
             0.1,
             "#c51b7d"
            ],
            [
             0.2,
             "#de77ae"
            ],
            [
             0.3,
             "#f1b6da"
            ],
            [
             0.4,
             "#fde0ef"
            ],
            [
             0.5,
             "#f7f7f7"
            ],
            [
             0.6,
             "#e6f5d0"
            ],
            [
             0.7,
             "#b8e186"
            ],
            [
             0.8,
             "#7fbc41"
            ],
            [
             0.9,
             "#4d9221"
            ],
            [
             1,
             "#276419"
            ]
           ],
           "sequential": [
            [
             0,
             "#0d0887"
            ],
            [
             0.1111111111111111,
             "#46039f"
            ],
            [
             0.2222222222222222,
             "#7201a8"
            ],
            [
             0.3333333333333333,
             "#9c179e"
            ],
            [
             0.4444444444444444,
             "#bd3786"
            ],
            [
             0.5555555555555556,
             "#d8576b"
            ],
            [
             0.6666666666666666,
             "#ed7953"
            ],
            [
             0.7777777777777778,
             "#fb9f3a"
            ],
            [
             0.8888888888888888,
             "#fdca26"
            ],
            [
             1,
             "#f0f921"
            ]
           ],
           "sequentialminus": [
            [
             0,
             "#0d0887"
            ],
            [
             0.1111111111111111,
             "#46039f"
            ],
            [
             0.2222222222222222,
             "#7201a8"
            ],
            [
             0.3333333333333333,
             "#9c179e"
            ],
            [
             0.4444444444444444,
             "#bd3786"
            ],
            [
             0.5555555555555556,
             "#d8576b"
            ],
            [
             0.6666666666666666,
             "#ed7953"
            ],
            [
             0.7777777777777778,
             "#fb9f3a"
            ],
            [
             0.8888888888888888,
             "#fdca26"
            ],
            [
             1,
             "#f0f921"
            ]
           ]
          },
          "colorway": [
           "#636efa",
           "#EF553B",
           "#00cc96",
           "#ab63fa",
           "#FFA15A",
           "#19d3f3",
           "#FF6692",
           "#B6E880",
           "#FF97FF",
           "#FECB52"
          ],
          "font": {
           "color": "#2a3f5f"
          },
          "geo": {
           "bgcolor": "white",
           "lakecolor": "white",
           "landcolor": "white",
           "showlakes": true,
           "showland": true,
           "subunitcolor": "#C8D4E3"
          },
          "hoverlabel": {
           "align": "left"
          },
          "hovermode": "closest",
          "mapbox": {
           "style": "light"
          },
          "paper_bgcolor": "white",
          "plot_bgcolor": "white",
          "polar": {
           "angularaxis": {
            "gridcolor": "#EBF0F8",
            "linecolor": "#EBF0F8",
            "ticks": ""
           },
           "bgcolor": "white",
           "radialaxis": {
            "gridcolor": "#EBF0F8",
            "linecolor": "#EBF0F8",
            "ticks": ""
           }
          },
          "scene": {
           "xaxis": {
            "backgroundcolor": "white",
            "gridcolor": "#DFE8F3",
            "gridwidth": 2,
            "linecolor": "#EBF0F8",
            "showbackground": true,
            "ticks": "",
            "zerolinecolor": "#EBF0F8"
           },
           "yaxis": {
            "backgroundcolor": "white",
            "gridcolor": "#DFE8F3",
            "gridwidth": 2,
            "linecolor": "#EBF0F8",
            "showbackground": true,
            "ticks": "",
            "zerolinecolor": "#EBF0F8"
           },
           "zaxis": {
            "backgroundcolor": "white",
            "gridcolor": "#DFE8F3",
            "gridwidth": 2,
            "linecolor": "#EBF0F8",
            "showbackground": true,
            "ticks": "",
            "zerolinecolor": "#EBF0F8"
           }
          },
          "shapedefaults": {
           "line": {
            "color": "#2a3f5f"
           }
          },
          "ternary": {
           "aaxis": {
            "gridcolor": "#DFE8F3",
            "linecolor": "#A2B1C6",
            "ticks": ""
           },
           "baxis": {
            "gridcolor": "#DFE8F3",
            "linecolor": "#A2B1C6",
            "ticks": ""
           },
           "bgcolor": "white",
           "caxis": {
            "gridcolor": "#DFE8F3",
            "linecolor": "#A2B1C6",
            "ticks": ""
           }
          },
          "title": {
           "x": 0.05
          },
          "xaxis": {
           "automargin": true,
           "gridcolor": "#EBF0F8",
           "linecolor": "#EBF0F8",
           "ticks": "",
           "title": {
            "standoff": 15
           },
           "zerolinecolor": "#EBF0F8",
           "zerolinewidth": 2
          },
          "yaxis": {
           "automargin": true,
           "gridcolor": "#EBF0F8",
           "linecolor": "#EBF0F8",
           "ticks": "",
           "title": {
            "standoff": 15
           },
           "zerolinecolor": "#EBF0F8",
           "zerolinewidth": 2
          }
         }
        },
        "title": {
         "text": "Effective Field Goal Percentage",
         "x": 0.5
        },
        "xaxis": {
         "anchor": "y",
         "domain": [
          0,
          1
         ],
         "title": {
          "text": "Date"
         }
        },
        "yaxis": {
         "anchor": "x",
         "domain": [
          0,
          1
         ],
         "title": {
          "text": "EFG%"
         }
        }
       }
      },
      "text/html": [
       "<div>                            <div id=\"509f4c5c-ac2e-417d-853f-4d4dd2849afe\" class=\"plotly-graph-div\" style=\"height:525px; width:100%;\"></div>            <script type=\"text/javascript\">                require([\"plotly\"], function(Plotly) {                    window.PLOTLYENV=window.PLOTLYENV || {};                                    if (document.getElementById(\"509f4c5c-ac2e-417d-853f-4d4dd2849afe\")) {                    Plotly.newPlot(                        \"509f4c5c-ac2e-417d-853f-4d4dd2849afe\",                        [{\"hovertemplate\":\"Date=%{x}<br>EFG%=%{y}<extra></extra>\",\"legendgroup\":\"\",\"line\":{\"color\":\"#636efa\",\"dash\":\"solid\"},\"marker\":{\"symbol\":\"circle\"},\"mode\":\"lines\",\"name\":\"\",\"orientation\":\"v\",\"showlegend\":false,\"x\":[\" 10/20\",\" 10/22\",\" 10/25\",\" 10/27\",\" 10/28\",\" 10/30\",\" 11/01\",\" 11/03\",\" 11/05\",\" 11/07\",\" 11/10\",\" 11/13\",\" 11/15\"],\"xaxis\":\"x\",\"y\":[47.53,62.23,39.47,56.55,53.03,41.35,55.23,48.72,64.29,57.41,47.62,57.14,52.38],\"yaxis\":\"y\",\"type\":\"scatter\"}],                        {\"template\":{\"data\":{\"barpolar\":[{\"marker\":{\"line\":{\"color\":\"white\",\"width\":0.5},\"pattern\":{\"fillmode\":\"overlay\",\"size\":10,\"solidity\":0.2}},\"type\":\"barpolar\"}],\"bar\":[{\"error_x\":{\"color\":\"#2a3f5f\"},\"error_y\":{\"color\":\"#2a3f5f\"},\"marker\":{\"line\":{\"color\":\"white\",\"width\":0.5},\"pattern\":{\"fillmode\":\"overlay\",\"size\":10,\"solidity\":0.2}},\"type\":\"bar\"}],\"carpet\":[{\"aaxis\":{\"endlinecolor\":\"#2a3f5f\",\"gridcolor\":\"#C8D4E3\",\"linecolor\":\"#C8D4E3\",\"minorgridcolor\":\"#C8D4E3\",\"startlinecolor\":\"#2a3f5f\"},\"baxis\":{\"endlinecolor\":\"#2a3f5f\",\"gridcolor\":\"#C8D4E3\",\"linecolor\":\"#C8D4E3\",\"minorgridcolor\":\"#C8D4E3\",\"startlinecolor\":\"#2a3f5f\"},\"type\":\"carpet\"}],\"choropleth\":[{\"colorbar\":{\"outlinewidth\":0,\"ticks\":\"\"},\"type\":\"choropleth\"}],\"contourcarpet\":[{\"colorbar\":{\"outlinewidth\":0,\"ticks\":\"\"},\"type\":\"contourcarpet\"}],\"contour\":[{\"colorbar\":{\"outlinewidth\":0,\"ticks\":\"\"},\"colorscale\":[[0.0,\"#0d0887\"],[0.1111111111111111,\"#46039f\"],[0.2222222222222222,\"#7201a8\"],[0.3333333333333333,\"#9c179e\"],[0.4444444444444444,\"#bd3786\"],[0.5555555555555556,\"#d8576b\"],[0.6666666666666666,\"#ed7953\"],[0.7777777777777778,\"#fb9f3a\"],[0.8888888888888888,\"#fdca26\"],[1.0,\"#f0f921\"]],\"type\":\"contour\"}],\"heatmapgl\":[{\"colorbar\":{\"outlinewidth\":0,\"ticks\":\"\"},\"colorscale\":[[0.0,\"#0d0887\"],[0.1111111111111111,\"#46039f\"],[0.2222222222222222,\"#7201a8\"],[0.3333333333333333,\"#9c179e\"],[0.4444444444444444,\"#bd3786\"],[0.5555555555555556,\"#d8576b\"],[0.6666666666666666,\"#ed7953\"],[0.7777777777777778,\"#fb9f3a\"],[0.8888888888888888,\"#fdca26\"],[1.0,\"#f0f921\"]],\"type\":\"heatmapgl\"}],\"heatmap\":[{\"colorbar\":{\"outlinewidth\":0,\"ticks\":\"\"},\"colorscale\":[[0.0,\"#0d0887\"],[0.1111111111111111,\"#46039f\"],[0.2222222222222222,\"#7201a8\"],[0.3333333333333333,\"#9c179e\"],[0.4444444444444444,\"#bd3786\"],[0.5555555555555556,\"#d8576b\"],[0.6666666666666666,\"#ed7953\"],[0.7777777777777778,\"#fb9f3a\"],[0.8888888888888888,\"#fdca26\"],[1.0,\"#f0f921\"]],\"type\":\"heatmap\"}],\"histogram2dcontour\":[{\"colorbar\":{\"outlinewidth\":0,\"ticks\":\"\"},\"colorscale\":[[0.0,\"#0d0887\"],[0.1111111111111111,\"#46039f\"],[0.2222222222222222,\"#7201a8\"],[0.3333333333333333,\"#9c179e\"],[0.4444444444444444,\"#bd3786\"],[0.5555555555555556,\"#d8576b\"],[0.6666666666666666,\"#ed7953\"],[0.7777777777777778,\"#fb9f3a\"],[0.8888888888888888,\"#fdca26\"],[1.0,\"#f0f921\"]],\"type\":\"histogram2dcontour\"}],\"histogram2d\":[{\"colorbar\":{\"outlinewidth\":0,\"ticks\":\"\"},\"colorscale\":[[0.0,\"#0d0887\"],[0.1111111111111111,\"#46039f\"],[0.2222222222222222,\"#7201a8\"],[0.3333333333333333,\"#9c179e\"],[0.4444444444444444,\"#bd3786\"],[0.5555555555555556,\"#d8576b\"],[0.6666666666666666,\"#ed7953\"],[0.7777777777777778,\"#fb9f3a\"],[0.8888888888888888,\"#fdca26\"],[1.0,\"#f0f921\"]],\"type\":\"histogram2d\"}],\"histogram\":[{\"marker\":{\"pattern\":{\"fillmode\":\"overlay\",\"size\":10,\"solidity\":0.2}},\"type\":\"histogram\"}],\"mesh3d\":[{\"colorbar\":{\"outlinewidth\":0,\"ticks\":\"\"},\"type\":\"mesh3d\"}],\"parcoords\":[{\"line\":{\"colorbar\":{\"outlinewidth\":0,\"ticks\":\"\"}},\"type\":\"parcoords\"}],\"pie\":[{\"automargin\":true,\"type\":\"pie\"}],\"scatter3d\":[{\"line\":{\"colorbar\":{\"outlinewidth\":0,\"ticks\":\"\"}},\"marker\":{\"colorbar\":{\"outlinewidth\":0,\"ticks\":\"\"}},\"type\":\"scatter3d\"}],\"scattercarpet\":[{\"marker\":{\"colorbar\":{\"outlinewidth\":0,\"ticks\":\"\"}},\"type\":\"scattercarpet\"}],\"scattergeo\":[{\"marker\":{\"colorbar\":{\"outlinewidth\":0,\"ticks\":\"\"}},\"type\":\"scattergeo\"}],\"scattergl\":[{\"marker\":{\"colorbar\":{\"outlinewidth\":0,\"ticks\":\"\"}},\"type\":\"scattergl\"}],\"scattermapbox\":[{\"marker\":{\"colorbar\":{\"outlinewidth\":0,\"ticks\":\"\"}},\"type\":\"scattermapbox\"}],\"scatterpolargl\":[{\"marker\":{\"colorbar\":{\"outlinewidth\":0,\"ticks\":\"\"}},\"type\":\"scatterpolargl\"}],\"scatterpolar\":[{\"marker\":{\"colorbar\":{\"outlinewidth\":0,\"ticks\":\"\"}},\"type\":\"scatterpolar\"}],\"scatter\":[{\"marker\":{\"colorbar\":{\"outlinewidth\":0,\"ticks\":\"\"}},\"type\":\"scatter\"}],\"scatterternary\":[{\"marker\":{\"colorbar\":{\"outlinewidth\":0,\"ticks\":\"\"}},\"type\":\"scatterternary\"}],\"surface\":[{\"colorbar\":{\"outlinewidth\":0,\"ticks\":\"\"},\"colorscale\":[[0.0,\"#0d0887\"],[0.1111111111111111,\"#46039f\"],[0.2222222222222222,\"#7201a8\"],[0.3333333333333333,\"#9c179e\"],[0.4444444444444444,\"#bd3786\"],[0.5555555555555556,\"#d8576b\"],[0.6666666666666666,\"#ed7953\"],[0.7777777777777778,\"#fb9f3a\"],[0.8888888888888888,\"#fdca26\"],[1.0,\"#f0f921\"]],\"type\":\"surface\"}],\"table\":[{\"cells\":{\"fill\":{\"color\":\"#EBF0F8\"},\"line\":{\"color\":\"white\"}},\"header\":{\"fill\":{\"color\":\"#C8D4E3\"},\"line\":{\"color\":\"white\"}},\"type\":\"table\"}]},\"layout\":{\"annotationdefaults\":{\"arrowcolor\":\"#2a3f5f\",\"arrowhead\":0,\"arrowwidth\":1},\"autotypenumbers\":\"strict\",\"coloraxis\":{\"colorbar\":{\"outlinewidth\":0,\"ticks\":\"\"}},\"colorscale\":{\"diverging\":[[0,\"#8e0152\"],[0.1,\"#c51b7d\"],[0.2,\"#de77ae\"],[0.3,\"#f1b6da\"],[0.4,\"#fde0ef\"],[0.5,\"#f7f7f7\"],[0.6,\"#e6f5d0\"],[0.7,\"#b8e186\"],[0.8,\"#7fbc41\"],[0.9,\"#4d9221\"],[1,\"#276419\"]],\"sequential\":[[0.0,\"#0d0887\"],[0.1111111111111111,\"#46039f\"],[0.2222222222222222,\"#7201a8\"],[0.3333333333333333,\"#9c179e\"],[0.4444444444444444,\"#bd3786\"],[0.5555555555555556,\"#d8576b\"],[0.6666666666666666,\"#ed7953\"],[0.7777777777777778,\"#fb9f3a\"],[0.8888888888888888,\"#fdca26\"],[1.0,\"#f0f921\"]],\"sequentialminus\":[[0.0,\"#0d0887\"],[0.1111111111111111,\"#46039f\"],[0.2222222222222222,\"#7201a8\"],[0.3333333333333333,\"#9c179e\"],[0.4444444444444444,\"#bd3786\"],[0.5555555555555556,\"#d8576b\"],[0.6666666666666666,\"#ed7953\"],[0.7777777777777778,\"#fb9f3a\"],[0.8888888888888888,\"#fdca26\"],[1.0,\"#f0f921\"]]},\"colorway\":[\"#636efa\",\"#EF553B\",\"#00cc96\",\"#ab63fa\",\"#FFA15A\",\"#19d3f3\",\"#FF6692\",\"#B6E880\",\"#FF97FF\",\"#FECB52\"],\"font\":{\"color\":\"#2a3f5f\"},\"geo\":{\"bgcolor\":\"white\",\"lakecolor\":\"white\",\"landcolor\":\"white\",\"showlakes\":true,\"showland\":true,\"subunitcolor\":\"#C8D4E3\"},\"hoverlabel\":{\"align\":\"left\"},\"hovermode\":\"closest\",\"mapbox\":{\"style\":\"light\"},\"paper_bgcolor\":\"white\",\"plot_bgcolor\":\"white\",\"polar\":{\"angularaxis\":{\"gridcolor\":\"#EBF0F8\",\"linecolor\":\"#EBF0F8\",\"ticks\":\"\"},\"bgcolor\":\"white\",\"radialaxis\":{\"gridcolor\":\"#EBF0F8\",\"linecolor\":\"#EBF0F8\",\"ticks\":\"\"}},\"scene\":{\"xaxis\":{\"backgroundcolor\":\"white\",\"gridcolor\":\"#DFE8F3\",\"gridwidth\":2,\"linecolor\":\"#EBF0F8\",\"showbackground\":true,\"ticks\":\"\",\"zerolinecolor\":\"#EBF0F8\"},\"yaxis\":{\"backgroundcolor\":\"white\",\"gridcolor\":\"#DFE8F3\",\"gridwidth\":2,\"linecolor\":\"#EBF0F8\",\"showbackground\":true,\"ticks\":\"\",\"zerolinecolor\":\"#EBF0F8\"},\"zaxis\":{\"backgroundcolor\":\"white\",\"gridcolor\":\"#DFE8F3\",\"gridwidth\":2,\"linecolor\":\"#EBF0F8\",\"showbackground\":true,\"ticks\":\"\",\"zerolinecolor\":\"#EBF0F8\"}},\"shapedefaults\":{\"line\":{\"color\":\"#2a3f5f\"}},\"ternary\":{\"aaxis\":{\"gridcolor\":\"#DFE8F3\",\"linecolor\":\"#A2B1C6\",\"ticks\":\"\"},\"baxis\":{\"gridcolor\":\"#DFE8F3\",\"linecolor\":\"#A2B1C6\",\"ticks\":\"\"},\"bgcolor\":\"white\",\"caxis\":{\"gridcolor\":\"#DFE8F3\",\"linecolor\":\"#A2B1C6\",\"ticks\":\"\"}},\"title\":{\"x\":0.05},\"xaxis\":{\"automargin\":true,\"gridcolor\":\"#EBF0F8\",\"linecolor\":\"#EBF0F8\",\"ticks\":\"\",\"title\":{\"standoff\":15},\"zerolinecolor\":\"#EBF0F8\",\"zerolinewidth\":2},\"yaxis\":{\"automargin\":true,\"gridcolor\":\"#EBF0F8\",\"linecolor\":\"#EBF0F8\",\"ticks\":\"\",\"title\":{\"standoff\":15},\"zerolinecolor\":\"#EBF0F8\",\"zerolinewidth\":2}}},\"xaxis\":{\"anchor\":\"y\",\"domain\":[0.0,1.0],\"title\":{\"text\":\"Date\"}},\"yaxis\":{\"anchor\":\"x\",\"domain\":[0.0,1.0],\"title\":{\"text\":\"EFG%\"}},\"legend\":{\"tracegroupgap\":0},\"title\":{\"text\":\"Effective Field Goal Percentage\",\"x\":0.5},\"font\":{\"family\":\"Georgia\",\"size\":18}},                        {\"responsive\": true}                    ).then(function(){\n",
       "                            \n",
       "var gd = document.getElementById('509f4c5c-ac2e-417d-853f-4d4dd2849afe');\n",
       "var x = new MutationObserver(function (mutations, observer) {{\n",
       "        var display = window.getComputedStyle(gd).display;\n",
       "        if (!display || display === 'none') {{\n",
       "            console.log([gd, 'removed!']);\n",
       "            Plotly.purge(gd);\n",
       "            observer.disconnect();\n",
       "        }}\n",
       "}});\n",
       "\n",
       "// Listen for the removal of the full notebook cells\n",
       "var notebookContainer = gd.closest('#notebook-container');\n",
       "if (notebookContainer) {{\n",
       "    x.observe(notebookContainer, {childList: true});\n",
       "}}\n",
       "\n",
       "// Listen for the clearing of the current output cell\n",
       "var outputEl = gd.closest('.output');\n",
       "if (outputEl) {{\n",
       "    x.observe(outputEl, {childList: true});\n",
       "}}\n",
       "\n",
       "                        })                };                });            </script>        </div>"
      ]
     },
     "metadata": {},
     "output_type": "display_data"
    }
   ],
   "source": [
    "fig = px.line(df, x = 'Date', y = 'EFG%', title = 'Effective Field Goal Percentage',template = 'plotly_white')\n",
    "fig.update_layout(font_family = 'Georgia', title_x = 0.5, font = dict(size = 18))\n",
    "fig.show()"
   ]
  },
  {
   "cell_type": "code",
   "execution_count": null,
   "id": "39dfda75",
   "metadata": {},
   "outputs": [],
   "source": []
  }
 ],
 "metadata": {
  "kernelspec": {
   "display_name": "Python 3",
   "language": "python",
   "name": "python3"
  },
  "language_info": {
   "codemirror_mode": {
    "name": "ipython",
    "version": 3
   },
   "file_extension": ".py",
   "mimetype": "text/x-python",
   "name": "python",
   "nbconvert_exporter": "python",
   "pygments_lexer": "ipython3",
   "version": "3.8.8"
  }
 },
 "nbformat": 4,
 "nbformat_minor": 5
}
